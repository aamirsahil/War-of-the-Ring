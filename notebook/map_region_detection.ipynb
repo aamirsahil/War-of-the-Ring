{
 "cells": [
  {
   "cell_type": "markdown",
   "id": "bf1352dc",
   "metadata": {},
   "source": [
    "<h2>Essential Libraries</h2>"
   ]
  },
  {
   "cell_type": "code",
   "execution_count": 22,
   "id": "02c5d863",
   "metadata": {},
   "outputs": [],
   "source": [
    "import os\n",
    "import pygame\n",
    "from PIL import Image\n",
    "import numpy as np\n",
    "import pandas as pd\n",
    "from typing import Dict, Tuple, List\n",
    "from collections import defaultdict\n",
    "import json"
   ]
  },
  {
   "cell_type": "code",
   "execution_count": 5,
   "id": "77a0ad28",
   "metadata": {},
   "outputs": [
    {
     "name": "stdout",
     "output_type": "stream",
     "text": [
      "d:\\Coding\\War of the ring\\War-of-the-Ring\\notebook\n"
     ]
    }
   ],
   "source": [
    "print(os.getcwd())\n",
    "root = \"../src/assets/map/\""
   ]
  },
  {
   "cell_type": "markdown",
   "id": "8a54ec1a",
   "metadata": {},
   "source": [
    "<h2>Classes</h2>"
   ]
  },
  {
   "cell_type": "markdown",
   "id": "c77dda09",
   "metadata": {},
   "source": [
    "<h2>Utility Functions</h2>"
   ]
  },
  {
   "cell_type": "markdown",
   "id": "7aac5246",
   "metadata": {},
   "source": [
    "<h2>Game Variables</h2>"
   ]
  },
  {
   "cell_type": "code",
   "execution_count": 6,
   "id": "97f78c83",
   "metadata": {},
   "outputs": [],
   "source": [
    "# pygame window dimensions\n",
    "WINDOW_WIDTH = 1920\n",
    "WINDOW_HEIGHT = 1080"
   ]
  },
  {
   "cell_type": "code",
   "execution_count": 7,
   "id": "4d2f1811",
   "metadata": {},
   "outputs": [],
   "source": [
    "# map dimension\n",
    "map_image = Image.open(root + \"map_cut.png\")\n",
    "map_mask = Image.open(root + \"map_mask.png\")\n",
    "\n",
    "MAP_WIDTH = map_image.width\n",
    "MAP_HEIGHT = map_image.height"
   ]
  },
  {
   "cell_type": "code",
   "execution_count": 8,
   "id": "51407278",
   "metadata": {},
   "outputs": [
    {
     "name": "stdout",
     "output_type": "stream",
     "text": [
      "map width = 6854\n",
      "map height = 4708\n"
     ]
    }
   ],
   "source": [
    "print(f\"map width = {MAP_WIDTH}\")\n",
    "print(f\"map height = {MAP_HEIGHT}\")"
   ]
  },
  {
   "cell_type": "code",
   "execution_count": 9,
   "id": "3da9f88b",
   "metadata": {},
   "outputs": [],
   "source": [
    "mapheight_fit_factor = WINDOW_HEIGHT/MAP_HEIGHT*0.75"
   ]
  },
  {
   "cell_type": "code",
   "execution_count": 10,
   "id": "a5d34a98",
   "metadata": {},
   "outputs": [],
   "source": [
    "game_area = {\n",
    "    \"x0\" : 100, \"y0\" : 0,\n",
    "    \"width\" : mapheight_fit_factor*MAP_WIDTH, \"height\" : mapheight_fit_factor*MAP_HEIGHT \n",
    "}"
   ]
  },
  {
   "cell_type": "code",
   "execution_count": 11,
   "id": "ffea6e70",
   "metadata": {},
   "outputs": [],
   "source": [
    "class TextClass:\n",
    "    def __init__(self, text_content : str , font_loc : str,\n",
    "                 font_size : int, font_color : Tuple[int, int, int],\n",
    "                 rect_center : Tuple[int, int]):\n",
    "        self.text_content = text_content\n",
    "        self.font_loc = font_loc\n",
    "        self.font_size = font_size\n",
    "        self.font_color = font_color\n",
    "        self.font = pygame.font.Font(self.font_loc, self.font_size)\n",
    "        self.text = self.font.render(self.text_content, True, self.font_color)\n",
    "        self.text_rect = self.text.get_rect()\n",
    "        self.text_rect.center = rect_center\n",
    "\n",
    "    def draw_text(self, screen : pygame.Surface):\n",
    "        screen.blit(self.text, self.text_rect)\n",
    "\n",
    "class Quit_Box:\n",
    "    def __init__(self, text_values : dict, \n",
    "                 x : int = 0, y : int = 0,\n",
    "                 width : int = 100, height : int = 50,\n",
    "                 ):\n",
    "        # box\n",
    "        self.x = x\n",
    "        self.y = y\n",
    "        self.width = width\n",
    "        self.height = height\n",
    "        # text\n",
    "        text_values['rect_center'] = (self.x + self.width/2, self.y + self.height/2)\n",
    "        self.text = TextClass(**text_values)\n",
    "\n",
    "    def draw(self, screen : pygame.Surface) -> None:\n",
    "        # draw quit game box at top left\n",
    "        pygame.draw.rect(screen, (255, 255, 255), pygame.Rect(self.x, self.y, self.width, self.height))\n",
    "        self.text.draw_text(screen)\n",
    "\n",
    "    def is_inside(self, mouse_x : int, mouse_y : int) -> bool:\n",
    "        if mouse_x >= self.x and mouse_x <= self.x + self.width\\\n",
    "        and mouse_y >= self.y and mouse_y <= self.y + self.height:\n",
    "            return True\n",
    "        return False"
   ]
  },
  {
   "cell_type": "code",
   "execution_count": 12,
   "id": "c8319a10",
   "metadata": {},
   "outputs": [],
   "source": [
    "def get_map_coordinate(mouse_x : int, mouse_y : int, x_offset, y_offset, zoom) -> Tuple[int, int]:\n",
    "    map_x = (mouse_x + x_offset - game_area['x0']) // (mapheight_fit_factor * zoom) \n",
    "    map_y = (mouse_y + y_offset - game_area['y0']) // (mapheight_fit_factor * zoom)\n",
    "    return int(map_x), int(map_y)"
   ]
  },
  {
   "cell_type": "code",
   "execution_count": 13,
   "id": "87a1f07e",
   "metadata": {},
   "outputs": [],
   "source": [
    "def rgb2hex(r : int, g : int, b : int) -> str:\n",
    "    return \"{:02x}{:02x}{:02x}\".format(r, g, b)"
   ]
  },
  {
   "cell_type": "code",
   "execution_count": 14,
   "id": "963b5139",
   "metadata": {},
   "outputs": [],
   "source": [
    "def get_region_name(region_color : str, df : pd.DataFrame) -> str:\n",
    "    return df[df['Color-Hex'] == region_color]['Name'].iloc[0]"
   ]
  },
  {
   "cell_type": "code",
   "execution_count": 15,
   "id": "d59c5dac",
   "metadata": {},
   "outputs": [
    {
     "data": {
      "text/html": [
       "<div>\n",
       "<style scoped>\n",
       "    .dataframe tbody tr th:only-of-type {\n",
       "        vertical-align: middle;\n",
       "    }\n",
       "\n",
       "    .dataframe tbody tr th {\n",
       "        vertical-align: top;\n",
       "    }\n",
       "\n",
       "    .dataframe thead th {\n",
       "        text-align: right;\n",
       "    }\n",
       "</style>\n",
       "<table border=\"1\" class=\"dataframe\">\n",
       "  <thead>\n",
       "    <tr style=\"text-align: right;\">\n",
       "      <th></th>\n",
       "      <th>Name</th>\n",
       "      <th>Type</th>\n",
       "      <th>Color-Decimal</th>\n",
       "      <th>Color-Hex</th>\n",
       "    </tr>\n",
       "  </thead>\n",
       "  <tbody>\n",
       "    <tr>\n",
       "      <th>0</th>\n",
       "      <td>Anfalas</td>\n",
       "      <td>region</td>\n",
       "      <td>100</td>\n",
       "      <td>000064</td>\n",
       "    </tr>\n",
       "    <tr>\n",
       "      <th>1</th>\n",
       "      <td>Angmar</td>\n",
       "      <td>region</td>\n",
       "      <td>200</td>\n",
       "      <td>0000C8</td>\n",
       "    </tr>\n",
       "    <tr>\n",
       "      <th>2</th>\n",
       "      <td>Arnor</td>\n",
       "      <td>region</td>\n",
       "      <td>400</td>\n",
       "      <td>000190</td>\n",
       "    </tr>\n",
       "    <tr>\n",
       "      <th>3</th>\n",
       "      <td>Ash Mountains</td>\n",
       "      <td>region</td>\n",
       "      <td>500</td>\n",
       "      <td>0001F4</td>\n",
       "    </tr>\n",
       "    <tr>\n",
       "      <th>4</th>\n",
       "      <td>Barad Dur</td>\n",
       "      <td>region</td>\n",
       "      <td>600</td>\n",
       "      <td>000258</td>\n",
       "    </tr>\n",
       "  </tbody>\n",
       "</table>\n",
       "</div>"
      ],
      "text/plain": [
       "            Name    Type  Color-Decimal Color-Hex\n",
       "0        Anfalas  region            100    000064\n",
       "1         Angmar  region            200    0000C8\n",
       "2          Arnor  region            400    000190\n",
       "3  Ash Mountains  region            500    0001F4\n",
       "4      Barad Dur  region            600    000258"
      ]
     },
     "execution_count": 15,
     "metadata": {},
     "output_type": "execute_result"
    }
   ],
   "source": [
    "df = pd.read_csv(root + 'map_mask_data.csv')\n",
    "df.head()"
   ]
  },
  {
   "cell_type": "code",
   "execution_count": 16,
   "id": "01f03fc7",
   "metadata": {},
   "outputs": [],
   "source": [
    "zoom = 1\n",
    "zoom_step = 1\n",
    "zoom_min = 1\n",
    "zoom_max = 5\n",
    "\n",
    "def get_scaled_map(map_image : pygame.Surface) -> pygame.Surface:\n",
    "    return pygame.transform.smoothscale_by(map_image, mapheight_fit_factor * zoom)\n",
    "\n",
    "def get_scaled_maps(map_image : pygame.Surface, zooms) -> pygame.Surface:\n",
    "    map_images = []\n",
    "    for zoom in zooms:\n",
    "        map_images.append(pygame.transform.smoothscale_by(map_image, mapheight_fit_factor * zoom))\n",
    "    return map_images"
   ]
  },
  {
   "cell_type": "code",
   "execution_count": 17,
   "id": "a1555d57",
   "metadata": {},
   "outputs": [],
   "source": [
    "def bound_game_area(x0, y0, map_width, map_height):\n",
    "    x0 = min(x0, map_width - game_area['width'])\n",
    "    x0 = max(x0, 0)\n",
    "    y0 = min(y0, map_height - game_area['height'])\n",
    "    y0 = max(y0, 0)\n",
    "    return x0, y0"
   ]
  },
  {
   "cell_type": "code",
   "execution_count": 18,
   "id": "973f249e",
   "metadata": {},
   "outputs": [],
   "source": [
    "def get_view_rect(map_width : int, map_height : int, offset_x, offset_y, zoom_type) -> Tuple[int, int]:\n",
    "    mouse_x, mouse_y = pygame.mouse.get_pos()\n",
    "\n",
    "    camera_center = (offset_x + game_area['width']/2, offset_y + game_area['height']/2)\n",
    "    new_camera_center = (mouse_x + offset_x, mouse_y + offset_y)\n",
    "    camera_drift_direction =  (new_camera_center[0] - camera_center[0], new_camera_center[1] - camera_center[1])\n",
    "    \n",
    "    x0 = offset_x + camera_drift_direction[0]*0.5*zoom_type\n",
    "    y0 = offset_y + camera_drift_direction[1]*0.5*zoom_type\n",
    "    x0, y0 = bound_game_area(x0, y0, map_width, map_height)\n",
    "\n",
    "    return (x0, y0)"
   ]
  },
  {
   "cell_type": "code",
   "execution_count": 19,
   "id": "aad2f547",
   "metadata": {},
   "outputs": [],
   "source": [
    "def inside_game_area():\n",
    "    mouse_x, mouse_y = pygame.mouse.get_pos()\n",
    "    \n",
    "    return mouse_x >= game_area['x0'] and mouse_x <= game_area['x0'] + game_area['width']\\\n",
    "    and mouse_y >= game_area['y0'] and mouse_y <= game_area['y0'] + game_area['height']"
   ]
  },
  {
   "cell_type": "markdown",
   "id": "22ae9aa0",
   "metadata": {},
   "source": [
    "<h2>Main Loop</h2>"
   ]
  },
  {
   "cell_type": "code",
   "execution_count": 20,
   "id": "f8462abe",
   "metadata": {},
   "outputs": [],
   "source": [
    "region_masks = {}  # color_hex -> boolean mask\n",
    "map_mask_arr = np.array(map_mask)\n",
    "\n",
    "# Create 3-channel RGB version\n",
    "region_color_map = {}  # color tuple -> hex string\n",
    "map_rgb = map_mask_arr[:, :, :3]\n",
    "h, w = map_rgb.shape[:2]\n",
    "unique_colors = np.unique(map_rgb.reshape(-1, 3), axis=0)\n",
    "\n",
    "for color in unique_colors:\n",
    "    color_tuple = tuple(color.tolist())\n",
    "    color_hex = rgb2hex(*color_tuple).upper()\n",
    "    region_color_map[color_tuple] = color_hex\n",
    "    mask = np.all(map_rgb == color_tuple, axis=-1)\n",
    "    region_masks[color_hex] = mask\n",
    "\n",
    "print(\"Caching done\")"
   ]
  },
  {
   "cell_type": "code",
   "execution_count": 30,
   "id": "d13402fc",
   "metadata": {},
   "outputs": [],
   "source": [
    "# save region mask\n",
    "label_map = np.full((MAP_HEIGHT, MAP_WIDTH), fill_value=-1, dtype=np.int16)\n",
    "color_to_id = {}\n",
    "id_to_color_hex = {}\n",
    "current_id = 0\n",
    "\n",
    "for color_tuple, color_hex in region_color_map.items():\n",
    "    mask = np.all(map_rgb == color_tuple, axis=-1)\n",
    "    label_map[mask] = current_id\n",
    "    color_to_id[color_tuple] = current_id\n",
    "    id_to_color_hex[current_id] = color_hex\n",
    "    current_id += 1\n"
   ]
  },
  {
   "cell_type": "code",
   "execution_count": 31,
   "id": "24fa9718",
   "metadata": {},
   "outputs": [],
   "source": [
    "np.savez_compressed(\"region_labels.npz\", label_map=label_map, id_to_color_hex=id_to_color_hex)"
   ]
  },
  {
   "cell_type": "code",
   "execution_count": 34,
   "id": "3d627a34",
   "metadata": {},
   "outputs": [],
   "source": [
    "# load region mask\n",
    "mask_data = np.load('region_labels.npz', allow_pickle=True)\n",
    "label_map = mask_data['label_map']\n",
    "id_to_color_hex = mask_data['id_to_color_hex'].item()"
   ]
  },
  {
   "cell_type": "code",
   "execution_count": 37,
   "id": "cc50540c",
   "metadata": {},
   "outputs": [
    {
     "name": "stdout",
     "output_type": "stream",
     "text": [
      "Inside game area\n",
      "Region Color : 000320\n",
      "Region name : Buckland\n",
      "Inside game area\n",
      "Region Color : 00189C\n",
      "Region name : North Downs\n",
      "Inside game area\n",
      "Region Color : 0025E4\n",
      "Region name : Weather Hills\n",
      "Inside game area\n",
      "Region Color : 000C1C\n",
      "Region name : Ettenmoors\n",
      "Inside game area\n",
      "Region Color : 002454\n",
      "Region name : Trollshaws\n",
      "Inside game area\n",
      "Region Color : 001F40\n",
      "Region name : Rivendell\n",
      "Inside game area\n",
      "Region Color : 000DAC\n",
      "Region name : Fords of Bruinen\n",
      "Inside game area\n",
      "Region Color : 001194\n",
      "Region name : High Pass\n",
      "Inside game area\n",
      "Region Color : 000FA0\n",
      "Region name : Goblin’s Gate\n",
      "Inside game area\n",
      "Region Color : 001C20\n",
      "Region name : Old Ford\n",
      "Inside game area\n",
      "Region Color : 00076C\n",
      "Region name : Eagle’s Eyrie\n",
      "Inside game area\n",
      "Region Color : 0003E8\n",
      "Region name : Carrock\n",
      "Inside game area\n",
      "Region Color : 001AF4\n",
      "Region name : Northern Mirkwood\n",
      "Inside game area\n",
      "Region Color : 00283C\n",
      "Region name : Withered Heath\n",
      "Inside game area\n",
      "Region Color : 0004B0\n",
      "Region name : Dale\n",
      "Inside game area\n",
      "Region Color : 0028A0\n",
      "Region name : Woodland Realm\n",
      "Inside game area\n",
      "Region Color : 000AF0\n",
      "Region name : Erebor\n",
      "Inside game area\n",
      "Region Color : 00125C\n",
      "Region name : Iron Hills\n",
      "Inside game area\n",
      "Region Color : 000834\n",
      "Region name : East Rhun\n",
      "Inside game area\n",
      "Region Color : 00251C\n",
      "Region name : Vale of the Carnen\n",
      "Inside game area\n",
      "Region Color : 001A2C\n",
      "Region name : North Rhun\n",
      "Inside game area\n",
      "Region Color : 001A90\n",
      "Region name : Northern Dorwinion\n",
      "Inside game area\n",
      "Region Color : 0021FC\n",
      "Region name : Southern Dorwinion\n",
      "Inside game area\n",
      "Region Color : 002198\n",
      "Region name : South Rhun\n",
      "Inside game area\n",
      "Region Color : 0001F4\n",
      "Region name : Ash Mountains\n",
      "Inside game area\n",
      "Region Color : 00044C\n",
      "Region name : Dagorland\n",
      "Inside game area\n",
      "Region Color : 0019C8\n",
      "Region name : North Ithilien\n"
     ]
    }
   ],
   "source": [
    "zoom = 1\n",
    "zoom_type = 1\n",
    "\n",
    "# Initialize Pygame\n",
    "pygame.init()\n",
    "# ui elements\n",
    "text_values = {\n",
    "    \"text_content\" : \"Quit\",\n",
    "    \"font_loc\" : root + \"font.ttf\",\n",
    "    \"font_size\" : 30, \"font_color\" : (0, 0, 0),\n",
    "    \"rect_center\" : (0, 0)\n",
    "}\n",
    "\n",
    "quit_box = Quit_Box(text_values=text_values)\n",
    "pygame.display.set_caption(\"War of the Ring\")\n",
    "# flags = pygame.FULLSCREEN | pygame.DOUBLEBUF | pygame.HWSURFACE\n",
    "# screen = pygame.display.set_mode((WINDOW_WIDTH, WINDOW_HEIGHT), flags, 32)\n",
    "screen = pygame.display.set_mode((WINDOW_WIDTH, WINDOW_HEIGHT), pygame.FULLSCREEN, 32)\n",
    "original_map_image = pygame.image.load(root + \"map_cut.png\").convert()\n",
    "map_images = get_scaled_maps(original_map_image, zooms=range(1, 6))\n",
    "view_rect = pygame.Rect(0, 0, game_area['width'], game_area['height'])\n",
    "clock = pygame.time.Clock()\n",
    "running = True\n",
    "dragging = False\n",
    "offset_x = 0\n",
    "offset_y = 0\n",
    "image_start = (offset_x, offset_y)\n",
    "\n",
    "map_mask_overlay = np.zeros_like(map_mask_arr)\n",
    "map_mask_surface = pygame.image.frombuffer(map_mask_overlay.tobytes(),\n",
    "                            (map_mask_overlay.shape[0], map_mask_overlay.shape[1]), 'RGBA')\n",
    "map_mask_surface_scaled = get_scaled_map(map_mask_surface)\n",
    "\n",
    "while running:\n",
    "    for event in pygame.event.get():\n",
    "        if event.type == pygame.QUIT:\n",
    "            running = False\n",
    "        \n",
    "        # mouse button down\n",
    "        elif event.type == pygame.MOUSEBUTTONDOWN:\n",
    "            # left click\n",
    "            if event.button == 1:\n",
    "                mouse_x, mouse_y = pygame.mouse.get_pos()\n",
    "                # quit button\n",
    "                if quit_box.is_inside(mouse_x, mouse_y):\n",
    "                    running = False\n",
    "                # button click on game area\n",
    "                elif inside_game_area():\n",
    "                    print(\"Inside game area\")\n",
    "                    map_x, map_y = get_map_coordinate(mouse_x, mouse_y, offset_x, offset_y, zoom)\n",
    "                    region_id = label_map[map_y, map_x]                    \n",
    "                    region_color_hex = id_to_color_hex[region_id]\n",
    "                    mask = (label_map == region_id)\n",
    "\n",
    "                    # Fast copy from cached mask\n",
    "                    map_mask_overlay[:] = 0 # clear previous\n",
    "                    map_mask_overlay[mask] = [255, 0, 0, 100]  \n",
    "                    # if region_color_hex in region_masks:\n",
    "                    #     mask = region_masks[region_color_hex]\n",
    "                    #     map_mask_overlay[mask] = [255, 0, 0, 100]  # RGBA highlight\n",
    "\n",
    "                    # Recreate surface\n",
    "                    map_mask_surface = pygame.image.frombuffer(\n",
    "                        map_mask_overlay.tobytes(),\n",
    "                        (map_mask_overlay.shape[1], map_mask_overlay.shape[0]),\n",
    "                        'RGBA'\n",
    "                    )\n",
    "                    map_mask_surface_scaled = get_scaled_map(map_mask_surface)\n",
    "                    \n",
    "                    print(f\"Region Color : {region_color_hex}\")\n",
    "                    region_name = get_region_name(region_color_hex.upper(), df)\n",
    "                    print(f\"Region name : {region_name}\")\n",
    "                # button click outside game area\n",
    "                else:\n",
    "                    print(\"Outside game area\")\n",
    "            \n",
    "            # right click to drag\n",
    "            elif event.button == 3:\n",
    "                dragging = True\n",
    "                drag_start = pygame.mouse.get_pos()\n",
    "                image_start = (offset_x, offset_y)\n",
    "            \n",
    "            # scroll up\n",
    "            elif (event.button == 4 or event.button == 5) and inside_game_area():\n",
    "                if event.button == 4:\n",
    "                    zoom = min(zoom_max, zoom + zoom_step)\n",
    "                    zoom_type = 1\n",
    "                else:\n",
    "                    zoom = max(zoom_min, zoom - zoom_step)\n",
    "                    zoom_type = -1\n",
    "                \n",
    "                map_mask_surface_scaled = get_scaled_map(map_mask_surface)\n",
    "                offset_x, offset_y = get_view_rect(map_images[zoom-1].get_width(), map_images[zoom-1].get_height(), offset_x, offset_y, zoom_type)\n",
    "                view_rect = pygame.Rect(offset_x, offset_y, game_area['width'], game_area['height'])\n",
    "        \n",
    "        # end of dragging\n",
    "        elif event.type == pygame.MOUSEBUTTONUP:\n",
    "            if event.button == 3:  # Stop dragging\n",
    "                dragging = False\n",
    "\n",
    "        elif event.type == pygame.MOUSEMOTION and dragging:\n",
    "            mouse_x, mouse_y = pygame.mouse.get_pos()\n",
    "            dx = mouse_x - drag_start[0]\n",
    "            dy = mouse_y - drag_start[1]\n",
    "            offset_x = image_start[0] - dx\n",
    "            offset_y = image_start[1] - dy\n",
    "            offset_x, offset_y = bound_game_area(offset_x, offset_y, map_images[zoom-1].get_width(), map_images[zoom-1].get_height())\n",
    "            view_rect = pygame.Rect(offset_x, offset_y, game_area['width'], game_area['height'])\n",
    "\n",
    "    screen.fill((0, 0, 0))\n",
    "\n",
    "    # render the frame\n",
    "    # map\n",
    "    screen.blit(map_images[zoom-1], (100, 0), view_rect)\n",
    "    screen.blit(map_mask_surface_scaled, (100, 0), view_rect)  # Add this line to draw highlight\n",
    "    # ui\n",
    "    quit_box.draw(screen)\n",
    "\n",
    "    pygame.display.flip()\n",
    "    clock.tick(60)\n",
    "\n",
    "pygame.quit()"
   ]
  },
  {
   "cell_type": "markdown",
   "id": "064a8ccf",
   "metadata": {},
   "source": [
    "<h2>Testing</h2>"
   ]
  },
  {
   "cell_type": "code",
   "execution_count": 38,
   "id": "28984acc",
   "metadata": {},
   "outputs": [],
   "source": [
    "arr = np.array(map_mask)\n",
    "indices = np.argwhere(np.all(arr == [0, 0, 0, 255], axis=-1))"
   ]
  },
  {
   "cell_type": "code",
   "execution_count": 41,
   "id": "bfb2efaf",
   "metadata": {},
   "outputs": [],
   "source": [
    "new_array = np.zeros_like(arr)"
   ]
  },
  {
   "cell_type": "code",
   "execution_count": 43,
   "id": "41c6033c",
   "metadata": {},
   "outputs": [],
   "source": [
    "new_array[indices[:, 0], indices[:, 1]] = [255, 0, 0, 100]"
   ]
  },
  {
   "cell_type": "code",
   "execution_count": 47,
   "id": "4e4e21ad",
   "metadata": {},
   "outputs": [
    {
     "data": {
      "text/plain": [
       "(4708, 6854, 4)"
      ]
     },
     "execution_count": 47,
     "metadata": {},
     "output_type": "execute_result"
    }
   ],
   "source": [
    "new_array.shape"
   ]
  },
  {
   "cell_type": "code",
   "execution_count": 48,
   "id": "5ef63fd0",
   "metadata": {},
   "outputs": [
    {
     "data": {
      "text/plain": [
       "<Surface(4708x6854x32 SW)>"
      ]
     },
     "execution_count": 48,
     "metadata": {},
     "output_type": "execute_result"
    }
   ],
   "source": [
    "pygame.image.frombuffer(new_array.tobytes(), (4708, 6854), 'RGBA')"
   ]
  },
  {
   "cell_type": "code",
   "execution_count": 46,
   "id": "7702349c",
   "metadata": {},
   "outputs": [
    {
     "data": {
      "text/plain": [
       "(4708, 6854, 4)"
      ]
     },
     "execution_count": 46,
     "metadata": {},
     "output_type": "execute_result"
    }
   ],
   "source": [
    "new_array.shape"
   ]
  },
  {
   "cell_type": "code",
   "execution_count": null,
   "id": "84d66d53",
   "metadata": {},
   "outputs": [],
   "source": [
    "small_array = array[:50, :50, :]  # Extract a (50, 50, 4) array\n",
    "surface = pygame.surfarray.make_surface(small_array)"
   ]
  }
 ],
 "metadata": {
  "kernelspec": {
   "display_name": "env",
   "language": "python",
   "name": "python3"
  },
  "language_info": {
   "codemirror_mode": {
    "name": "ipython",
    "version": 3
   },
   "file_extension": ".py",
   "mimetype": "text/x-python",
   "name": "python",
   "nbconvert_exporter": "python",
   "pygments_lexer": "ipython3",
   "version": "3.10.0"
  }
 },
 "nbformat": 4,
 "nbformat_minor": 5
}
