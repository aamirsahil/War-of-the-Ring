{
 "cells": [
  {
   "cell_type": "code",
   "execution_count": 1,
   "id": "654c006f",
   "metadata": {},
   "outputs": [
    {
     "data": {
      "text/plain": [
       "'d:\\\\Coding\\\\War of the ring\\\\War-of-the-Ring\\\\notebook'"
      ]
     },
     "execution_count": 1,
     "metadata": {},
     "output_type": "execute_result"
    }
   ],
   "source": [
    "import os\n",
    "os.getcwd()"
   ]
  },
  {
   "cell_type": "code",
   "execution_count": 2,
   "id": "58190fd5",
   "metadata": {},
   "outputs": [],
   "source": [
    "root = \"../src/assets/map/\""
   ]
  },
  {
   "cell_type": "code",
   "execution_count": 3,
   "id": "02c5d863",
   "metadata": {},
   "outputs": [
    {
     "name": "stdout",
     "output_type": "stream",
     "text": [
      "pygame 2.6.1 (SDL 2.28.4, Python 3.10.0)\n",
      "Hello from the pygame community. https://www.pygame.org/contribute.html\n"
     ]
    }
   ],
   "source": [
    "import pygame\n",
    "from PIL import Image\n",
    "import numpy as np\n",
    "import pandas as pd\n",
    "from dataclasses import dataclass\n",
    "from typing import Dict, Tuple, List"
   ]
  },
  {
   "cell_type": "code",
   "execution_count": 4,
   "id": "4d2f1811",
   "metadata": {},
   "outputs": [],
   "source": [
    "# pygame window dimensions\n",
    "WINDOW_WIDTH = 1920\n",
    "WINDOW_HEIGHT = 1080\n",
    "\n",
    "# map dimension\n",
    "map_image = Image.open(root + \"map_cut.png\")\n",
    "map_mask = Image.open(root + \"map_mask.png\")\n",
    "MAP_WIDTH = map_image.width\n",
    "MAP_HEIGHT = map_image.height"
   ]
  },
  {
   "cell_type": "code",
   "execution_count": 5,
   "id": "66202fb7",
   "metadata": {},
   "outputs": [
    {
     "data": {
      "text/plain": [
       "(14, 116, 255)"
      ]
     },
     "execution_count": 5,
     "metadata": {},
     "output_type": "execute_result"
    }
   ],
   "source": [
    "map_mask.getpixel((1005, 1005))[1:]"
   ]
  },
  {
   "cell_type": "code",
   "execution_count": 6,
   "id": "51407278",
   "metadata": {},
   "outputs": [
    {
     "name": "stdout",
     "output_type": "stream",
     "text": [
      "map width = 6854\n",
      "map height = 4708\n"
     ]
    }
   ],
   "source": [
    "print(f\"map width = {MAP_WIDTH}\")\n",
    "print(f\"map height = {MAP_HEIGHT}\")"
   ]
  },
  {
   "cell_type": "code",
   "execution_count": 7,
   "id": "3da9f88b",
   "metadata": {},
   "outputs": [],
   "source": [
    "mapheight_fit_factor = WINDOW_HEIGHT/MAP_HEIGHT*0.75"
   ]
  },
  {
   "cell_type": "code",
   "execution_count": 8,
   "id": "a5d34a98",
   "metadata": {},
   "outputs": [],
   "source": [
    "game_area = {\n",
    "    \"x0\" : 100, \"y0\" : 0,\n",
    "    \"width\" : mapheight_fit_factor*MAP_WIDTH, \"height\" : mapheight_fit_factor*MAP_HEIGHT \n",
    "}"
   ]
  },
  {
   "cell_type": "code",
   "execution_count": 9,
   "id": "ffea6e70",
   "metadata": {},
   "outputs": [],
   "source": [
    "class TextClass:\n",
    "    def __init__(self, text_content : str , font_loc : str,\n",
    "                 font_size : int, font_color : Tuple[int, int, int],\n",
    "                 rect_center : Tuple[int, int]):\n",
    "        self.text_content = text_content\n",
    "        self.font_loc = font_loc\n",
    "        self.font_size = font_size\n",
    "        self.font_color = font_color\n",
    "        self.font = pygame.font.Font(self.font_loc, self.font_size)\n",
    "        self.text = self.font.render(self.text_content, True, self.font_color)\n",
    "        self.text_rect = self.text.get_rect()\n",
    "        self.text_rect.center = rect_center\n",
    "\n",
    "    def draw_text(self, screen : pygame.Surface):\n",
    "        screen.blit(self.text, self.text_rect)\n",
    "\n",
    "class Quit_Box:\n",
    "    def __init__(self, text_values : dict, \n",
    "                 x : int = 0, y : int = 0,\n",
    "                 width : int = 100, height : int = 50,\n",
    "                 ):\n",
    "        # box\n",
    "        self.x = x\n",
    "        self.y = y\n",
    "        self.width = width\n",
    "        self.height = height\n",
    "        # text\n",
    "        text_values['rect_center'] = (self.x + self.width/2, self.y + self.height/2)\n",
    "        self.text = TextClass(**text_values)\n",
    "\n",
    "    def draw(self, screen : pygame.Surface) -> None:\n",
    "        # draw quit game box at top left\n",
    "        pygame.draw.rect(screen, (255, 255, 255), pygame.Rect(self.x, self.y, self.width, self.height))\n",
    "        self.text.draw_text(screen)\n",
    "\n",
    "    def is_inside(self, mouse_x : int, mouse_y : int) -> bool:\n",
    "        if mouse_x >= self.x and mouse_x <= self.x + self.width\\\n",
    "        and mouse_y >= self.y and mouse_y <= self.y + self.height:\n",
    "            return True\n",
    "        return False"
   ]
  },
  {
   "cell_type": "code",
   "execution_count": 10,
   "id": "c8319a10",
   "metadata": {},
   "outputs": [],
   "source": [
    "def get_map_coordinate(mouse_x : int, mouse_y : int) -> Tuple[int, int]:\n",
    "    map_x = (mouse_x - game_area['x0']) // mapheight_fit_factor \n",
    "    map_y = (mouse_y - game_area['y0']) // mapheight_fit_factor\n",
    "    return int(map_x), int(map_y)"
   ]
  },
  {
   "cell_type": "code",
   "execution_count": 11,
   "id": "87a1f07e",
   "metadata": {},
   "outputs": [],
   "source": [
    "def rgb2hex(r : int, g : int, b : int) -> str:\n",
    "    return \"{:02x}{:02x}{:02x}\".format(r, g, b)"
   ]
  },
  {
   "cell_type": "code",
   "execution_count": 12,
   "id": "963b5139",
   "metadata": {},
   "outputs": [],
   "source": [
    "def get_region_name(region_color : str, df : pd.DataFrame) -> str:\n",
    "    return df[df['Color-Hex'] == region_color]['Name'].iloc[0]"
   ]
  },
  {
   "cell_type": "code",
   "execution_count": 13,
   "id": "49a5e4c4",
   "metadata": {},
   "outputs": [
    {
     "data": {
      "text/html": [
       "<div>\n",
       "<style scoped>\n",
       "    .dataframe tbody tr th:only-of-type {\n",
       "        vertical-align: middle;\n",
       "    }\n",
       "\n",
       "    .dataframe tbody tr th {\n",
       "        vertical-align: top;\n",
       "    }\n",
       "\n",
       "    .dataframe thead th {\n",
       "        text-align: right;\n",
       "    }\n",
       "</style>\n",
       "<table border=\"1\" class=\"dataframe\">\n",
       "  <thead>\n",
       "    <tr style=\"text-align: right;\">\n",
       "      <th></th>\n",
       "      <th>Name</th>\n",
       "      <th>Type</th>\n",
       "      <th>Color-Decimal</th>\n",
       "      <th>Color-Hex</th>\n",
       "    </tr>\n",
       "  </thead>\n",
       "  <tbody>\n",
       "    <tr>\n",
       "      <th>0</th>\n",
       "      <td>Anfalas</td>\n",
       "      <td>region</td>\n",
       "      <td>100</td>\n",
       "      <td>000064</td>\n",
       "    </tr>\n",
       "    <tr>\n",
       "      <th>1</th>\n",
       "      <td>Angmar</td>\n",
       "      <td>region</td>\n",
       "      <td>200</td>\n",
       "      <td>0000C8</td>\n",
       "    </tr>\n",
       "    <tr>\n",
       "      <th>2</th>\n",
       "      <td>Arnor</td>\n",
       "      <td>region</td>\n",
       "      <td>400</td>\n",
       "      <td>000190</td>\n",
       "    </tr>\n",
       "    <tr>\n",
       "      <th>3</th>\n",
       "      <td>Ash Mountains</td>\n",
       "      <td>region</td>\n",
       "      <td>500</td>\n",
       "      <td>0001F4</td>\n",
       "    </tr>\n",
       "    <tr>\n",
       "      <th>4</th>\n",
       "      <td>Barad Dur</td>\n",
       "      <td>region</td>\n",
       "      <td>600</td>\n",
       "      <td>000258</td>\n",
       "    </tr>\n",
       "  </tbody>\n",
       "</table>\n",
       "</div>"
      ],
      "text/plain": [
       "            Name    Type  Color-Decimal Color-Hex\n",
       "0        Anfalas  region            100    000064\n",
       "1         Angmar  region            200    0000C8\n",
       "2          Arnor  region            400    000190\n",
       "3  Ash Mountains  region            500    0001F4\n",
       "4      Barad Dur  region            600    000258"
      ]
     },
     "execution_count": 13,
     "metadata": {},
     "output_type": "execute_result"
    }
   ],
   "source": [
    "df = pd.read_csv(root + \"map_mask_data.csv\")\n",
    "df.head()"
   ]
  },
  {
   "cell_type": "code",
   "execution_count": 15,
   "id": "cc50540c",
   "metadata": {},
   "outputs": [
    {
     "name": "stdout",
     "output_type": "stream",
     "text": [
      "Inside game area\n",
      "Region Color : 00238c\n",
      "Region name : The Shire\n",
      "Inside game area\n",
      "Region Color : 0f517c\n",
      "Region name : City The Shire FP\n",
      "Inside game area\n",
      "Region Color : 0f5690\n",
      "Region name : Settlemet Marker The Shire FP\n",
      "Inside game area\n",
      "Region Color : 0f4240\n",
      "Region name : Strategy Deck FP\n",
      "Inside game area\n",
      "Region Color : 0f42a4\n",
      "Region name : Character Deck FP\n",
      "Inside game area\n",
      "Region Color : 0f6ec8\n",
      "Region name : Character Deck SH\n",
      "Inside game area\n",
      "Region Color : 0f6e64\n",
      "Region name : Strategy Deck SH\n",
      "Inside game area\n",
      "Region Color : 001450\n",
      "Region name : Minas Morgul\n",
      "Inside game area\n",
      "Region Color : 0f4e5c\n",
      "Region name : Strong Hold Map Minas Morgul SH\n",
      "Inside game area\n",
      "Region Color : 0f5a78\n",
      "Region name : Settlemet Marker Minas Morgul SH\n",
      "Inside game area\n",
      "Region Color : 000000\n",
      "Region name : Background\n"
     ]
    }
   ],
   "source": [
    "# Initialize Pygame\n",
    "pygame.init()\n",
    "\n",
    "# ui elements\n",
    "text_values = {\n",
    "    \"text_content\" : \"Quit\",\n",
    "    \"font_loc\" : root + \"font.ttf\",\n",
    "    \"font_size\" : 30, \"font_color\" : (0, 0, 0),\n",
    "    \"rect_center\" : (0, 0)\n",
    "}\n",
    "quit_box = Quit_Box(text_values=text_values)\n",
    "\n",
    "screen = pygame.display.set_mode((WINDOW_WIDTH, WINDOW_HEIGHT), pygame.FULLSCREEN, 32)\n",
    "pygame.display.set_caption(\"War of the Ring\")\n",
    "map_image = pygame.image.load(root + \"map_cut.png\").convert()\n",
    "map_image = pygame.transform.smoothscale_by(map_image, mapheight_fit_factor)\n",
    "clock = pygame.time.Clock()\n",
    "running = True\n",
    "\n",
    "while running:\n",
    "    for event in pygame.event.get():\n",
    "        if event.type == pygame.QUIT:\n",
    "            running = False\n",
    "        elif event.type == pygame.MOUSEBUTTONDOWN and event.button == 1:\n",
    "            mouse_x, mouse_y = pygame.mouse.get_pos()\n",
    "            if quit_box.is_inside(mouse_x, mouse_y):\n",
    "                running = False\n",
    "            elif mouse_x >= game_area['x0'] and mouse_x <= game_area['x0'] + game_area['width']\\\n",
    "            and mouse_y >= game_area['y0'] and mouse_y <= game_area['y0'] + game_area['height']:\n",
    "                print(\"Inside game area\")\n",
    "                map_x, map_y = get_map_coordinate(mouse_x, mouse_y)\n",
    "                region_color = map_mask.getpixel((map_x, map_y))[:3]\n",
    "                region_color_hex = rgb2hex(*region_color)\n",
    "                print(f\"Region Color : {region_color_hex}\")\n",
    "                region_name = get_region_name(region_color_hex.upper(), df)\n",
    "                print(f\"Region name : {region_name}\")\n",
    "            else:\n",
    "                print(\"Outside game area\")\n",
    "\n",
    "    screen.fill((0, 0, 0))\n",
    "\n",
    "    # render the frame\n",
    "    # map\n",
    "    screen.blit(map_image, (100, 0))\n",
    "    # ui\n",
    "    quit_box.draw(screen)\n",
    "\n",
    "    pygame.display.flip()\n",
    "    clock.tick(60)\n",
    "\n",
    "pygame.quit()"
   ]
  },
  {
   "cell_type": "code",
   "execution_count": null,
   "id": "e08f55d8",
   "metadata": {},
   "outputs": [],
   "source": []
  }
 ],
 "metadata": {
  "kernelspec": {
   "display_name": "env",
   "language": "python",
   "name": "python3"
  },
  "language_info": {
   "codemirror_mode": {
    "name": "ipython",
    "version": 3
   },
   "file_extension": ".py",
   "mimetype": "text/x-python",
   "name": "python",
   "nbconvert_exporter": "python",
   "pygments_lexer": "ipython3",
   "version": "3.10.0"
  }
 },
 "nbformat": 4,
 "nbformat_minor": 5
}
