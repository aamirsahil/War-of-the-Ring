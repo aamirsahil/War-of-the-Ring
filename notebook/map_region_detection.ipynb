{
 "cells": [
  {
   "cell_type": "code",
   "execution_count": 2,
   "id": "654c006f",
   "metadata": {},
   "outputs": [
    {
     "data": {
      "text/plain": [
       "'d:\\\\Coding\\\\War of the ring\\\\War-of-the-Ring\\\\notebook'"
      ]
     },
     "execution_count": 2,
     "metadata": {},
     "output_type": "execute_result"
    }
   ],
   "source": [
    "import os\n",
    "os.getcwd()"
   ]
  },
  {
   "cell_type": "code",
   "execution_count": 3,
   "id": "58190fd5",
   "metadata": {},
   "outputs": [],
   "source": [
    "root = \"../src/assets/map/\""
   ]
  },
  {
   "cell_type": "code",
   "execution_count": 4,
   "id": "02c5d863",
   "metadata": {},
   "outputs": [
    {
     "name": "stdout",
     "output_type": "stream",
     "text": [
      "pygame 2.6.1 (SDL 2.28.4, Python 3.10.0)\n",
      "Hello from the pygame community. https://www.pygame.org/contribute.html\n"
     ]
    }
   ],
   "source": [
    "import pygame"
   ]
  },
  {
   "cell_type": "code",
   "execution_count": 5,
   "id": "4d2f1811",
   "metadata": {},
   "outputs": [],
   "source": [
    "window_width = 800\n",
    "window_height = 600"
   ]
  },
  {
   "cell_type": "code",
   "execution_count": 6,
   "id": "ca86128d",
   "metadata": {},
   "outputs": [],
   "source": [
    "# Zoom variables\n",
    "zoom = 1.0\n",
    "zoom_step = 0.1\n",
    "min_zoom = 0.1\n",
    "max_zoom = 5.0\n",
    "\n",
    "# Pan variables\n",
    "offset_x = 0\n",
    "offset_y = 0\n",
    "dragging = False\n",
    "drag_start = (0, 0)\n",
    "image_start = (0, 0)"
   ]
  },
  {
   "cell_type": "code",
   "execution_count": 7,
   "id": "cc50540c",
   "metadata": {},
   "outputs": [
    {
     "name": "stdout",
     "output_type": "stream",
     "text": [
      "Original image coordinates: (328, 422)\n",
      "Original image coordinates: (2055, 2025)\n",
      "Original image coordinates: (1750, 1755)\n",
      "Original image coordinates: (2080, 2055)\n",
      "Original image coordinates: (2599, 3069)\n",
      "Original image coordinates: (2599, 3069)\n",
      "Original image coordinates: (2564, 3289)\n",
      "Original image coordinates: (2564, 3289)\n",
      "Original image coordinates: (2919, 3409)\n",
      "Original image coordinates: (2914, 3594)\n",
      "Original image coordinates: (3079, 3859)\n",
      "Original image coordinates: (3514, 3579)\n",
      "Original image coordinates: (5249, 1854)\n",
      "Original image coordinates: (5204, 1609)\n",
      "Original image coordinates: (5114, 1319)\n"
     ]
    }
   ],
   "source": [
    "# Initialize Pygame\n",
    "pygame.init()\n",
    "\n",
    "screen = pygame.display.set_mode((window_width, window_width))\n",
    "pygame.display.set_caption(\"War of the ring\")\n",
    "original_image = pygame.image.load(root + \"map_cut.png\").convert()\n",
    "original_width, original_height = original_image.get_size()\n",
    "\n",
    "def get_scaled_image():\n",
    "    scaled_width = int(original_width * zoom)\n",
    "    scaled_height = int(original_height * zoom)\n",
    "    return pygame.transform.smoothscale(original_image, (scaled_width, scaled_height))\n",
    "\n",
    "def draw_image(scaled_img):\n",
    "    img_rect = scaled_img.get_rect()\n",
    "    img_rect.topleft = (offset_x, offset_y)\n",
    "    screen.blit(scaled_img, img_rect)\n",
    "\n",
    "def get_original_coords(mouse_pos):\n",
    "    mx, my = mouse_pos\n",
    "    x = (mx - offset_x) / zoom\n",
    "    y = (my - offset_y) / zoom\n",
    "    return int(x), int(y)\n",
    "\n",
    "clock = pygame.time.Clock()\n",
    "running = True\n",
    "# Main loop\n",
    "while running:\n",
    "    for event in pygame.event.get():\n",
    "        if event.type == pygame.QUIT:\n",
    "            running = False\n",
    "        elif event.type == pygame.MOUSEBUTTONDOWN:\n",
    "            if event.button == 1:  # Left click\n",
    "                original_coords = get_original_coords(pygame.mouse.get_pos())\n",
    "                print(\"Original image coordinates:\", original_coords)\n",
    "            elif event.button == 3:  # Right click to drag\n",
    "                dragging = True\n",
    "                drag_start = pygame.mouse.get_pos()\n",
    "                image_start = (offset_x, offset_y)\n",
    "            elif event.button == 4:  # Scroll up\n",
    "                zoom = min(max_zoom, zoom + zoom_step)\n",
    "            elif event.button == 5:  # Scroll down\n",
    "                zoom = max(min_zoom, zoom - zoom_step)\n",
    "\n",
    "        elif event.type == pygame.MOUSEBUTTONUP:\n",
    "            if event.button == 3:  # Stop dragging\n",
    "                dragging = False\n",
    "\n",
    "        elif event.type == pygame.MOUSEMOTION and dragging:\n",
    "            mx, my = pygame.mouse.get_pos()\n",
    "            dx = mx - drag_start[0]\n",
    "            dy = my - drag_start[1]\n",
    "            offset_x = image_start[0] + dx\n",
    "            offset_y = image_start[1] + dy\n",
    "\n",
    "    screen.fill((30, 30, 30))\n",
    "    scaled_img = get_scaled_image()\n",
    "    draw_image(scaled_img)\n",
    "\n",
    "    pygame.display.flip()\n",
    "    clock.tick(60)\n",
    "pygame.quit()"
   ]
  }
 ],
 "metadata": {
  "kernelspec": {
   "display_name": "env",
   "language": "python",
   "name": "python3"
  },
  "language_info": {
   "codemirror_mode": {
    "name": "ipython",
    "version": 3
   },
   "file_extension": ".py",
   "mimetype": "text/x-python",
   "name": "python",
   "nbconvert_exporter": "python",
   "pygments_lexer": "ipython3",
   "version": "3.10.0"
  }
 },
 "nbformat": 4,
 "nbformat_minor": 5
}
