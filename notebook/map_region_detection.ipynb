{
 "cells": [
  {
   "cell_type": "code",
   "execution_count": 44,
   "id": "654c006f",
   "metadata": {},
   "outputs": [
    {
     "data": {
      "text/plain": [
       "'d:\\\\Coding\\\\War of the ring\\\\War-of-the-Ring\\\\notebook'"
      ]
     },
     "execution_count": 44,
     "metadata": {},
     "output_type": "execute_result"
    }
   ],
   "source": [
    "import os\n",
    "os.getcwd()"
   ]
  },
  {
   "cell_type": "code",
   "execution_count": 45,
   "id": "58190fd5",
   "metadata": {},
   "outputs": [],
   "source": [
    "root = \"../src/assets/map/\""
   ]
  },
  {
   "cell_type": "markdown",
   "id": "bf1352dc",
   "metadata": {},
   "source": [
    "<h2>Essential Libraries</h2>"
   ]
  },
  {
   "cell_type": "code",
   "execution_count": 46,
   "id": "02c5d863",
   "metadata": {},
   "outputs": [],
   "source": [
    "import pygame\n",
    "from PIL import Image\n",
    "import numpy as np\n",
    "import pandas as pd\n",
    "from typing import Dict, Tuple, List"
   ]
  },
  {
   "cell_type": "markdown",
   "id": "8a54ec1a",
   "metadata": {},
   "source": [
    "<h2>Classes</h2>"
   ]
  },
  {
   "cell_type": "markdown",
   "id": "c77dda09",
   "metadata": {},
   "source": [
    "<h2>Utility Functions</h2>"
   ]
  },
  {
   "cell_type": "markdown",
   "id": "7aac5246",
   "metadata": {},
   "source": [
    "<h2>Game Variables</h2>"
   ]
  },
  {
   "cell_type": "code",
   "execution_count": 47,
   "id": "97f78c83",
   "metadata": {},
   "outputs": [],
   "source": [
    "# pygame window dimensions\n",
    "WINDOW_WIDTH = 1920\n",
    "WINDOW_HEIGHT = 1080"
   ]
  },
  {
   "cell_type": "code",
   "execution_count": 48,
   "id": "4d2f1811",
   "metadata": {},
   "outputs": [],
   "source": [
    "# map dimension\n",
    "map_image = Image.open(root + \"map_cut.png\")\n",
    "map_mask = Image.open(root + \"map_mask.png\")\n",
    "\n",
    "MAP_WIDTH = map_image.width\n",
    "MAP_HEIGHT = map_image.height"
   ]
  },
  {
   "cell_type": "code",
   "execution_count": 31,
   "id": "51407278",
   "metadata": {},
   "outputs": [
    {
     "name": "stdout",
     "output_type": "stream",
     "text": [
      "map width = 6854\n",
      "map height = 4708\n"
     ]
    }
   ],
   "source": [
    "print(f\"map width = {MAP_WIDTH}\")\n",
    "print(f\"map height = {MAP_HEIGHT}\")"
   ]
  },
  {
   "cell_type": "code",
   "execution_count": 32,
   "id": "3da9f88b",
   "metadata": {},
   "outputs": [],
   "source": [
    "mapheight_fit_factor = WINDOW_HEIGHT/MAP_HEIGHT*0.75"
   ]
  },
  {
   "cell_type": "code",
   "execution_count": 33,
   "id": "a5d34a98",
   "metadata": {},
   "outputs": [],
   "source": [
    "game_area = {\n",
    "    \"x0\" : 100, \"y0\" : 0,\n",
    "    \"width\" : mapheight_fit_factor*MAP_WIDTH, \"height\" : mapheight_fit_factor*MAP_HEIGHT \n",
    "}"
   ]
  },
  {
   "cell_type": "code",
   "execution_count": 34,
   "id": "ffea6e70",
   "metadata": {},
   "outputs": [],
   "source": [
    "class TextClass:\n",
    "    def __init__(self, text_content : str , font_loc : str,\n",
    "                 font_size : int, font_color : Tuple[int, int, int],\n",
    "                 rect_center : Tuple[int, int]):\n",
    "        self.text_content = text_content\n",
    "        self.font_loc = font_loc\n",
    "        self.font_size = font_size\n",
    "        self.font_color = font_color\n",
    "        self.font = pygame.font.Font(self.font_loc, self.font_size)\n",
    "        self.text = self.font.render(self.text_content, True, self.font_color)\n",
    "        self.text_rect = self.text.get_rect()\n",
    "        self.text_rect.center = rect_center\n",
    "\n",
    "    def draw_text(self, screen : pygame.Surface):\n",
    "        screen.blit(self.text, self.text_rect)\n",
    "\n",
    "class Quit_Box:\n",
    "    def __init__(self, text_values : dict, \n",
    "                 x : int = 0, y : int = 0,\n",
    "                 width : int = 100, height : int = 50,\n",
    "                 ):\n",
    "        # box\n",
    "        self.x = x\n",
    "        self.y = y\n",
    "        self.width = width\n",
    "        self.height = height\n",
    "        # text\n",
    "        text_values['rect_center'] = (self.x + self.width/2, self.y + self.height/2)\n",
    "        self.text = TextClass(**text_values)\n",
    "\n",
    "    def draw(self, screen : pygame.Surface) -> None:\n",
    "        # draw quit game box at top left\n",
    "        pygame.draw.rect(screen, (255, 255, 255), pygame.Rect(self.x, self.y, self.width, self.height))\n",
    "        self.text.draw_text(screen)\n",
    "\n",
    "    def is_inside(self, mouse_x : int, mouse_y : int) -> bool:\n",
    "        if mouse_x >= self.x and mouse_x <= self.x + self.width\\\n",
    "        and mouse_y >= self.y and mouse_y <= self.y + self.height:\n",
    "            return True\n",
    "        return False"
   ]
  },
  {
   "cell_type": "code",
   "execution_count": 35,
   "id": "c8319a10",
   "metadata": {},
   "outputs": [],
   "source": [
    "def get_map_coordinate(mouse_x : int, mouse_y : int, x_offset, y_offset, zoom) -> Tuple[int, int]:\n",
    "    map_x = (mouse_x + x_offset - game_area['x0']) // (mapheight_fit_factor * zoom) \n",
    "    map_y = (mouse_y + y_offset - game_area['y0']) // (mapheight_fit_factor * zoom)\n",
    "    return int(map_x), int(map_y)"
   ]
  },
  {
   "cell_type": "code",
   "execution_count": 36,
   "id": "87a1f07e",
   "metadata": {},
   "outputs": [],
   "source": [
    "def rgb2hex(r : int, g : int, b : int) -> str:\n",
    "    return \"{:02x}{:02x}{:02x}\".format(r, g, b)"
   ]
  },
  {
   "cell_type": "code",
   "execution_count": 37,
   "id": "963b5139",
   "metadata": {},
   "outputs": [],
   "source": [
    "def get_region_name(region_color : str, df : pd.DataFrame) -> str:\n",
    "    return df[df['Color-Hex'] == region_color]['Name'].iloc[0]"
   ]
  },
  {
   "cell_type": "code",
   "execution_count": 38,
   "id": "d59c5dac",
   "metadata": {},
   "outputs": [
    {
     "data": {
      "text/html": [
       "<div>\n",
       "<style scoped>\n",
       "    .dataframe tbody tr th:only-of-type {\n",
       "        vertical-align: middle;\n",
       "    }\n",
       "\n",
       "    .dataframe tbody tr th {\n",
       "        vertical-align: top;\n",
       "    }\n",
       "\n",
       "    .dataframe thead th {\n",
       "        text-align: right;\n",
       "    }\n",
       "</style>\n",
       "<table border=\"1\" class=\"dataframe\">\n",
       "  <thead>\n",
       "    <tr style=\"text-align: right;\">\n",
       "      <th></th>\n",
       "      <th>Name</th>\n",
       "      <th>Type</th>\n",
       "      <th>Color-Decimal</th>\n",
       "      <th>Color-Hex</th>\n",
       "    </tr>\n",
       "  </thead>\n",
       "  <tbody>\n",
       "    <tr>\n",
       "      <th>0</th>\n",
       "      <td>Anfalas</td>\n",
       "      <td>region</td>\n",
       "      <td>100</td>\n",
       "      <td>000064</td>\n",
       "    </tr>\n",
       "    <tr>\n",
       "      <th>1</th>\n",
       "      <td>Angmar</td>\n",
       "      <td>region</td>\n",
       "      <td>200</td>\n",
       "      <td>0000C8</td>\n",
       "    </tr>\n",
       "    <tr>\n",
       "      <th>2</th>\n",
       "      <td>Arnor</td>\n",
       "      <td>region</td>\n",
       "      <td>400</td>\n",
       "      <td>000190</td>\n",
       "    </tr>\n",
       "    <tr>\n",
       "      <th>3</th>\n",
       "      <td>Ash Mountains</td>\n",
       "      <td>region</td>\n",
       "      <td>500</td>\n",
       "      <td>0001F4</td>\n",
       "    </tr>\n",
       "    <tr>\n",
       "      <th>4</th>\n",
       "      <td>Barad Dur</td>\n",
       "      <td>region</td>\n",
       "      <td>600</td>\n",
       "      <td>000258</td>\n",
       "    </tr>\n",
       "  </tbody>\n",
       "</table>\n",
       "</div>"
      ],
      "text/plain": [
       "            Name    Type  Color-Decimal Color-Hex\n",
       "0        Anfalas  region            100    000064\n",
       "1         Angmar  region            200    0000C8\n",
       "2          Arnor  region            400    000190\n",
       "3  Ash Mountains  region            500    0001F4\n",
       "4      Barad Dur  region            600    000258"
      ]
     },
     "execution_count": 38,
     "metadata": {},
     "output_type": "execute_result"
    }
   ],
   "source": [
    "df = pd.read_csv(root + 'map_mask_data.csv')\n",
    "df.head()"
   ]
  },
  {
   "cell_type": "code",
   "execution_count": 39,
   "id": "01f03fc7",
   "metadata": {},
   "outputs": [],
   "source": [
    "zoom = 1\n",
    "zoom_step = 0.3\n",
    "zoom_min = 1\n",
    "zoom_max = 5\n",
    "\n",
    "def get_scaled_map(map_image : pygame.Surface) -> pygame.Surface:\n",
    "    return pygame.transform.smoothscale_by(map_image, mapheight_fit_factor * zoom)"
   ]
  },
  {
   "cell_type": "code",
   "execution_count": 40,
   "id": "a1555d57",
   "metadata": {},
   "outputs": [],
   "source": [
    "def bound_game_area(x0, y0, map_width, map_height):\n",
    "    x0 = min(x0, map_width - game_area['width'])\n",
    "    x0 = max(x0, 0)\n",
    "    y0 = min(y0, map_height - game_area['height'])\n",
    "    y0 = max(y0, 0)\n",
    "    return x0, y0"
   ]
  },
  {
   "cell_type": "code",
   "execution_count": 41,
   "id": "973f249e",
   "metadata": {},
   "outputs": [],
   "source": [
    "def get_view_rect(map_width : int, map_height : int, offset_x, offset_y, zoom_type) -> Tuple[int, int]:\n",
    "    mouse_x, mouse_y = pygame.mouse.get_pos()\n",
    "\n",
    "    camera_center = (offset_x + game_area['width']/2, offset_y + game_area['height']/2)\n",
    "    new_camera_center = (mouse_x + offset_x, mouse_y + offset_y)\n",
    "    camera_drift_direction =  (new_camera_center[0] - camera_center[0], new_camera_center[1] - camera_center[1])\n",
    "    \n",
    "    x0 = offset_x + camera_drift_direction[0]*0.5*zoom_type\n",
    "    y0 = offset_y + camera_drift_direction[1]*0.5*zoom_type\n",
    "    x0, y0 = bound_game_area(x0, y0, map_width, map_height)\n",
    "\n",
    "    return (x0, y0)"
   ]
  },
  {
   "cell_type": "code",
   "execution_count": 42,
   "id": "aad2f547",
   "metadata": {},
   "outputs": [],
   "source": [
    "def inside_game_area():\n",
    "    mouse_x, mouse_y = pygame.mouse.get_pos()\n",
    "    \n",
    "    return mouse_x >= game_area['x0'] and mouse_x <= game_area['x0'] + game_area['width']\\\n",
    "    and mouse_y >= game_area['y0'] and mouse_y <= game_area['y0'] + game_area['height']"
   ]
  },
  {
   "cell_type": "markdown",
   "id": "22ae9aa0",
   "metadata": {},
   "source": [
    "<h2>Main Loop</h2>"
   ]
  },
  {
   "cell_type": "code",
   "execution_count": 43,
   "id": "cc50540c",
   "metadata": {},
   "outputs": [
    {
     "name": "stdout",
     "output_type": "stream",
     "text": [
      "Inside game area\n",
      "Region Color : 001964\n",
      "Region name : North Ered Luin\n",
      "Inside game area\n",
      "Region Color : 000c80\n",
      "Region name : Evendim\n",
      "Inside game area\n",
      "Region Color : 000bb8\n",
      "Region name : Ered Luin\n",
      "Inside game area\n",
      "Region Color : 0f56f4\n",
      "Region name : Settlement Marker Ered Luin FP\n",
      "Inside game area\n",
      "Region Color : 000e74\n",
      "Region name : Forlindon\n",
      "Inside game area\n",
      "Region Color : 001068\n",
      "Region name : Grey Havens\n",
      "Inside game area\n",
      "Region Color : 0f4a10\n",
      "Region name : Strong Hold Map Grey Havens FP\n",
      "Inside game area\n",
      "Region Color : 0f530c\n",
      "Region name : Settlemet Marker Grey Havens FP\n",
      "Inside game area\n",
      "Region Color : 0010cc\n",
      "Region name : Harlindon\n",
      "Inside game area\n",
      "Region Color : 0023f0\n",
      "Region name : Tower Hills\n",
      "Inside game area\n",
      "Region Color : 0020d0\n",
      "Region name : South Ered Luin\n",
      "Inside game area\n",
      "Region Color : 00238c\n",
      "Region name : The Shire\n",
      "Inside game area\n",
      "Region Color : 0f517c\n",
      "Region name : City The Shire FP\n",
      "Inside game area\n",
      "Region Color : 0f5690\n",
      "Region name : Settlemet Marker The Shire FP\n",
      "Inside game area\n",
      "Region Color : 00189c\n",
      "Region name : North Downs\n",
      "Inside game area\n",
      "Region Color : 000190\n",
      "Region name : Arnor\n",
      "Inside game area\n",
      "Region Color : 0000c8\n",
      "Region name : Angmar\n",
      "Inside game area\n",
      "Region Color : 0f5ba4\n",
      "Region name : Settlemet Marker Angmar SH\n",
      "Inside game area\n",
      "Region Color : 0f4f88\n",
      "Region name : City Angmar SH\n",
      "Inside game area\n",
      "Region Color : 001644\n",
      "Region name : Mount Gram\n",
      "Inside game area\n",
      "Region Color : 0016a8\n",
      "Region name : Mount Gundabad\n",
      "Inside game area\n",
      "Region Color : 0f4ccc\n",
      "Region name : Strong Hold Map Mount Gundabad SH\n",
      "Inside game area\n",
      "Region Color : 0f5ec4\n",
      "Region name : Settlement Marker Mount Gundabad SH\n",
      "Inside game area\n",
      "Region Color : 0f6694\n",
      "Region name : Fellowship Track\n",
      "Inside game area\n",
      "Region Color : 0f66f8\n",
      "Region name : Fellowship Track 0\n",
      "Inside game area\n",
      "Region Color : 0f675c\n",
      "Region name : Fellowship Track 1\n",
      "Inside game area\n",
      "Region Color : 0f67c0\n",
      "Region name : Fellowship Track 2\n",
      "Inside game area\n",
      "Region Color : 0f6824\n",
      "Region name : Fellowship Track 3\n",
      "Inside game area\n",
      "Region Color : 0f6888\n",
      "Region name : Fellowship Track 4\n",
      "Inside game area\n",
      "Region Color : 0f68ec\n",
      "Region name : Fellowship Track 5\n",
      "Inside game area\n",
      "Region Color : 0f6950\n",
      "Region name : Fellowship Track 6\n",
      "Inside game area\n",
      "Region Color : 0f69b4\n",
      "Region name : Fellowship Track 7\n",
      "Inside game area\n",
      "Region Color : 0f6a18\n",
      "Region name : Fellowship Track 8\n",
      "Inside game area\n",
      "Region Color : 0f6a7c\n",
      "Region name : Fellowship Track 9\n",
      "Inside game area\n",
      "Region Color : 0f6ae0\n",
      "Region name : Fellowship Track 10\n",
      "Inside game area\n",
      "Region Color : 0f6b44\n",
      "Region name : Fellowship Track 11\n",
      "Inside game area\n",
      "Region Color : 0f7440\n",
      "Region name : Fellowship Track 12\n",
      "Inside game area\n",
      "Region Color : 0f6ba8\n",
      "Region name : Fellowship Of the Ring Box\n",
      "Inside game area\n",
      "Region Color : 00125c\n",
      "Region name : Iron Hills\n",
      "Inside game area\n",
      "Region Color : 0f59b0\n",
      "Region name : Settlement Marker Iron Hills FP\n",
      "Inside game area\n",
      "Region Color : 0f6c0c\n",
      "Region name : Guide Of The Fellowship Box\n",
      "Inside game area\n",
      "Region Color : 00125c\n",
      "Region name : Iron Hills\n",
      "Inside game area\n",
      "Region Color : 000834\n",
      "Region name : East Rhun\n",
      "Inside game area\n",
      "Region Color : 001a2c\n",
      "Region name : North Rhun\n",
      "Inside game area\n",
      "Region Color : 002198\n",
      "Region name : South Rhun\n",
      "Inside game area\n",
      "Region Color : 001004\n",
      "Region name : Gorgoroth\n",
      "Inside game area\n",
      "Region Color : 0f6f2c\n",
      "Region name : Mordor Track 1\n",
      "Inside game area\n",
      "Region Color : 0f6f90\n",
      "Region name : Mordor Track 2\n",
      "Inside game area\n",
      "Region Color : 0f6ff4\n",
      "Region name : Mordor Track 3\n",
      "Inside game area\n",
      "Region Color : 0f7058\n",
      "Region name : Mordor Track 4\n",
      "Inside game area\n",
      "Region Color : 0f70bc\n",
      "Region name : Mordor Track 5\n",
      "Inside game area\n",
      "Region Color : 0f7120\n",
      "Region name : Mordor Track 6\n",
      "Inside game area\n",
      "Region Color : 00157c\n",
      "Region name : Morannon\n",
      "Inside game area\n",
      "Region Color : 0f4ec0\n",
      "Region name : Strong Hold Map Morannon SH\n",
      "Inside game area\n",
      "Region Color : 0f5adc\n",
      "Region name : Settlemet Marker Morannon SH\n",
      "Inside game area\n",
      "Region Color : 000258\n",
      "Region name : Barad Dur\n",
      "Inside game area\n",
      "Region Color : 0f5b40\n",
      "Region name : Settlemet Marker Barad Dur SH\n",
      "Inside game area\n",
      "Region Color : 0f5b40\n",
      "Region name : Settlemet Marker Barad Dur SH\n",
      "Inside game area\n",
      "Region Color : 0f4f24\n",
      "Region name : Strong Hold Map Barad Dur SH\n",
      "Inside game area\n",
      "Region Color : 0f4e5c\n",
      "Region name : Strong Hold Map Minas Morgul SH\n",
      "Inside game area\n",
      "Region Color : 0f5a78\n",
      "Region name : Settlemet Marker Minas Morgul SH\n",
      "Inside game area\n",
      "Region Color : 001450\n",
      "Region name : Minas Morgul\n",
      "Inside game area\n",
      "Region Color : 001bbc\n",
      "Region name : Nurn\n",
      "Inside game area\n",
      "Region Color : 0012c0\n",
      "Region name : Khand\n",
      "Inside game area\n",
      "Region Color : 000d48\n",
      "Region name : Far Harad\n",
      "Inside game area\n",
      "Region Color : 001770\n",
      "Region name : Near Harad\n",
      "Inside game area\n",
      "Region Color : 0024b8\n",
      "Region name : Umbar\n",
      "Inside game area\n",
      "Region Color : 0005dc\n",
      "Region name : Dol Amroth\n",
      "Inside game area\n",
      "Region Color : 000b54\n",
      "Region name : Erech\n",
      "Inside game area\n",
      "Region Color : 000064\n",
      "Region name : Anfalas\n",
      "Inside game area\n",
      "Region Color : 0f7184\n",
      "Region name : Andrast\n",
      "Inside game area\n",
      "Region Color : 000708\n",
      "Region name : Druwaith Iaur\n",
      "Inside game area\n",
      "Region Color : 000a8c\n",
      "Region name : Enedwaith\n",
      "Inside game area\n",
      "Region Color : 000ed8\n",
      "Region name : Gap of Rohan\n",
      "Inside game area\n",
      "Region Color : 000e10\n",
      "Region name : Fords of Isen\n",
      "Inside game area\n",
      "Region Color : 000ce4\n",
      "Region name : Fangorn\n",
      "Inside game area\n",
      "Region Color : 001e14\n",
      "Region name : Parth Celebrant\n",
      "Inside game area\n",
      "Region Color : 001388\n",
      "Region name : Lorien\n",
      "Inside game area\n",
      "Region Color : 001900\n",
      "Region name : North Dunland\n",
      "Inside game area\n",
      "Region Color : 00206c\n",
      "Region name : South Dunland\n",
      "Inside game area\n",
      "Region Color : 002328\n",
      "Region name : Tharbad\n",
      "Inside game area\n",
      "Region Color : 0011f8\n",
      "Region name : Hollin\n",
      "Inside game area\n",
      "Region Color : 001518\n",
      "Region name : Minhiriath\n",
      "Inside game area\n",
      "Region Color : 000000\n",
      "Region name : Background\n",
      "Inside game area\n",
      "Region Color : 0f45c4\n",
      "Region name : Strong Hold Baord Lorien FP\n",
      "Inside game area\n",
      "Region Color : 0f4560\n",
      "Region name : Strong Hold Baord Woodland Realm FP\n",
      "Inside game area\n",
      "Region Color : 0f44fc\n",
      "Region name : Strong Hold Baord Rivendel FP\n",
      "Inside game area\n",
      "Region Color : 0f4498\n",
      "Region name : Strong Hold Baord Grey Havens FP\n",
      "Inside game area\n",
      "Region Color : 0023f0\n",
      "Region name : Tower Hills\n"
     ]
    }
   ],
   "source": [
    "zoom = 1\n",
    "zoom_type = 1\n",
    "\n",
    "# Initialize Pygame\n",
    "pygame.init()\n",
    "\n",
    "# ui elements\n",
    "text_values = {\n",
    "    \"text_content\" : \"Quit\",\n",
    "    \"font_loc\" : root + \"font.ttf\",\n",
    "    \"font_size\" : 30, \"font_color\" : (0, 0, 0),\n",
    "    \"rect_center\" : (0, 0)\n",
    "}\n",
    "quit_box = Quit_Box(text_values=text_values)\n",
    "\n",
    "screen = pygame.display.set_mode((WINDOW_WIDTH, WINDOW_HEIGHT), pygame.FULLSCREEN, 32)\n",
    "pygame.display.set_caption(\"War of the Ring\")\n",
    "original_map_image = pygame.image.load(root + \"map_cut.png\").convert()\n",
    "map_image = get_scaled_map(original_map_image)\n",
    "view_rect = pygame.Rect(0, 0, game_area['width'], game_area['height'])\n",
    "clock = pygame.time.Clock()\n",
    "running = True\n",
    "dragging = False\n",
    "offset_x = 0\n",
    "offset_y = 0\n",
    "image_start = (offset_x, offset_y)\n",
    "map_mask_arr = np.array(map_mask)\n",
    "map_mask_overlay = np.zeros_like(map_mask_arr)\n",
    "map_mask_surface = pygame.image.frombuffer(map_mask_overlay.tobytes(),\n",
    "                            (map_mask_overlay.shape[0], map_mask_overlay.shape[1]), 'RGBA')\n",
    "map_mask_surface_scaled = get_scaled_map(map_mask_surface)\n",
    "\n",
    "while running:\n",
    "    for event in pygame.event.get():\n",
    "        if event.type == pygame.QUIT:\n",
    "            running = False\n",
    "        \n",
    "        # mouse button down\n",
    "        elif event.type == pygame.MOUSEBUTTONDOWN:\n",
    "            # left click\n",
    "            if event.button == 1:\n",
    "                mouse_x, mouse_y = pygame.mouse.get_pos()\n",
    "                # quit button\n",
    "                if quit_box.is_inside(mouse_x, mouse_y):\n",
    "                    running = False\n",
    "                # button click on game area\n",
    "                elif inside_game_area():\n",
    "                    print(\"Inside game area\")\n",
    "                    map_x, map_y = get_map_coordinate(mouse_x, mouse_y, offset_x, offset_y, zoom)\n",
    "                    region_color = map_mask.getpixel((map_x, map_y))[:3]\n",
    "                    # \n",
    "                     # Create mask of pixels matching clicked color\n",
    "                    mask_bool = np.all(map_mask_arr[:, :, :3] == region_color, axis=-1)\n",
    "\n",
    "                    # Apply red highlight with alpha to those pixels\n",
    "                    map_mask_overlay[:] = 0  # Clear previous highlights\n",
    "                    map_mask_overlay[mask_bool] = [255, 0, 0, 100]\n",
    "\n",
    "                    # Create a new surface from overlay\n",
    "                    map_mask_surface = pygame.image.frombuffer(\n",
    "                        map_mask_overlay.tobytes(),\n",
    "                        (map_mask_overlay.shape[1], map_mask_overlay.shape[0]),\n",
    "                        'RGBA'\n",
    "                    )\n",
    "                    map_mask_surface_scaled = get_scaled_map(map_mask_surface)\n",
    "\n",
    "                    region_color_hex = rgb2hex(*region_color)\n",
    "                    print(f\"Region Color : {region_color_hex}\")\n",
    "                    region_name = get_region_name(region_color_hex.upper(), df)\n",
    "                    print(f\"Region name : {region_name}\")\n",
    "                # button click outside game area\n",
    "                else:\n",
    "                    print(\"Outside game area\")\n",
    "            \n",
    "            # right click to drag\n",
    "            elif event.button == 3:\n",
    "                dragging = True\n",
    "                drag_start = pygame.mouse.get_pos()\n",
    "                image_start = (offset_x, offset_y)\n",
    "            \n",
    "            # scroll up\n",
    "            elif (event.button == 4 or event.button == 5) and inside_game_area():\n",
    "                if event.button == 4:\n",
    "                    zoom = min(zoom_max, zoom + zoom_step)\n",
    "                    zoom_type = 1\n",
    "                else:\n",
    "                    zoom = max(zoom_min, zoom - zoom_step)\n",
    "                    zoom_type = -1\n",
    "                map_image = get_scaled_map(original_map_image)\n",
    "                map_mask_surface_scaled = get_scaled_map(map_mask_surface)\n",
    "                offset_x, offset_y = get_view_rect(map_image.get_width(), map_image.get_height(), offset_x, offset_y, zoom_type)\n",
    "                view_rect = pygame.Rect(offset_x, offset_y, game_area['width'], game_area['height'])\n",
    "        \n",
    "        # end of dragging\n",
    "        elif event.type == pygame.MOUSEBUTTONUP:\n",
    "            if event.button == 3:  # Stop dragging\n",
    "                dragging = False\n",
    "\n",
    "        elif event.type == pygame.MOUSEMOTION and dragging:\n",
    "            mouse_x, mouse_y = pygame.mouse.get_pos()\n",
    "            dx = mouse_x - drag_start[0]\n",
    "            dy = mouse_y - drag_start[1]\n",
    "            offset_x = image_start[0] - dx\n",
    "            offset_y = image_start[1] - dy\n",
    "            offset_x, offset_y = bound_game_area(offset_x, offset_y, map_image.get_width(), map_image.get_height())\n",
    "            view_rect = pygame.Rect(offset_x, offset_y, game_area['width'], game_area['height'])\n",
    "\n",
    "    screen.fill((0, 0, 0))\n",
    "\n",
    "    # render the frame\n",
    "    # map\n",
    "    screen.blit(map_image, (100, 0), view_rect)\n",
    "    screen.blit(map_mask_surface_scaled, (100, 0), view_rect)  # Add this line to draw highlight\n",
    "    # ui\n",
    "    quit_box.draw(screen)\n",
    "\n",
    "    pygame.display.flip()\n",
    "    clock.tick(60)\n",
    "\n",
    "pygame.quit()"
   ]
  },
  {
   "cell_type": "markdown",
   "id": "064a8ccf",
   "metadata": {},
   "source": [
    "<h2>Testing</h2>"
   ]
  },
  {
   "cell_type": "code",
   "execution_count": 38,
   "id": "28984acc",
   "metadata": {},
   "outputs": [],
   "source": [
    "arr = np.array(map_mask)\n",
    "indices = np.argwhere(np.all(arr == [0, 0, 0, 255], axis=-1))"
   ]
  },
  {
   "cell_type": "code",
   "execution_count": 41,
   "id": "bfb2efaf",
   "metadata": {},
   "outputs": [],
   "source": [
    "new_array = np.zeros_like(arr)"
   ]
  },
  {
   "cell_type": "code",
   "execution_count": 43,
   "id": "41c6033c",
   "metadata": {},
   "outputs": [],
   "source": [
    "new_array[indices[:, 0], indices[:, 1]] = [255, 0, 0, 100]"
   ]
  },
  {
   "cell_type": "code",
   "execution_count": 47,
   "id": "4e4e21ad",
   "metadata": {},
   "outputs": [
    {
     "data": {
      "text/plain": [
       "(4708, 6854, 4)"
      ]
     },
     "execution_count": 47,
     "metadata": {},
     "output_type": "execute_result"
    }
   ],
   "source": [
    "new_array.shape"
   ]
  },
  {
   "cell_type": "code",
   "execution_count": 48,
   "id": "5ef63fd0",
   "metadata": {},
   "outputs": [
    {
     "data": {
      "text/plain": [
       "<Surface(4708x6854x32 SW)>"
      ]
     },
     "execution_count": 48,
     "metadata": {},
     "output_type": "execute_result"
    }
   ],
   "source": [
    "pygame.image.frombuffer(new_array.tobytes(), (4708, 6854), 'RGBA')"
   ]
  },
  {
   "cell_type": "code",
   "execution_count": 46,
   "id": "7702349c",
   "metadata": {},
   "outputs": [
    {
     "data": {
      "text/plain": [
       "(4708, 6854, 4)"
      ]
     },
     "execution_count": 46,
     "metadata": {},
     "output_type": "execute_result"
    }
   ],
   "source": [
    "new_array.shape"
   ]
  },
  {
   "cell_type": "code",
   "execution_count": null,
   "id": "84d66d53",
   "metadata": {},
   "outputs": [],
   "source": [
    "small_array = array[:50, :50, :]  # Extract a (50, 50, 4) array\n",
    "surface = pygame.surfarray.make_surface(small_array)"
   ]
  }
 ],
 "metadata": {
  "kernelspec": {
   "display_name": "env",
   "language": "python",
   "name": "python3"
  },
  "language_info": {
   "codemirror_mode": {
    "name": "ipython",
    "version": 3
   },
   "file_extension": ".py",
   "mimetype": "text/x-python",
   "name": "python",
   "nbconvert_exporter": "python",
   "pygments_lexer": "ipython3",
   "version": "3.10.0"
  }
 },
 "nbformat": 4,
 "nbformat_minor": 5
}
