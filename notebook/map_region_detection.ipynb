{
 "cells": [
  {
   "cell_type": "code",
   "execution_count": 1,
   "id": "654c006f",
   "metadata": {},
   "outputs": [
    {
     "data": {
      "text/plain": [
       "'d:\\\\Coding\\\\War of the ring\\\\War-of-the-Ring\\\\notebook'"
      ]
     },
     "execution_count": 1,
     "metadata": {},
     "output_type": "execute_result"
    }
   ],
   "source": [
    "import os\n",
    "os.getcwd()"
   ]
  },
  {
   "cell_type": "code",
   "execution_count": 2,
   "id": "58190fd5",
   "metadata": {},
   "outputs": [],
   "source": [
    "root = \"../src/assets/map/\""
   ]
  },
  {
   "cell_type": "code",
   "execution_count": 3,
   "id": "02c5d863",
   "metadata": {},
   "outputs": [
    {
     "name": "stdout",
     "output_type": "stream",
     "text": [
      "pygame 2.6.1 (SDL 2.28.4, Python 3.10.0)\n",
      "Hello from the pygame community. https://www.pygame.org/contribute.html\n"
     ]
    }
   ],
   "source": [
    "import pygame\n",
    "from PIL import Image\n",
    "import numpy as np\n",
    "import pandas as pd\n",
    "from dataclasses import dataclass\n",
    "from typing import Dict, Tuple, List"
   ]
  },
  {
   "cell_type": "code",
   "execution_count": 4,
   "id": "4d2f1811",
   "metadata": {},
   "outputs": [],
   "source": [
    "# pygame window dimensions\n",
    "WINDOW_WIDTH = 1920\n",
    "WINDOW_HEIGHT = 1080\n",
    "\n",
    "# map dimension\n",
    "map_image = Image.open(root + \"map_cut.png\")\n",
    "map_mask = Image.open(root + \"map_mask.png\")\n",
    "MAP_WIDTH = map_image.width\n",
    "MAP_HEIGHT = map_image.height"
   ]
  },
  {
   "cell_type": "code",
   "execution_count": 5,
   "id": "66202fb7",
   "metadata": {},
   "outputs": [
    {
     "data": {
      "text/plain": [
       "(14, 116, 255)"
      ]
     },
     "execution_count": 5,
     "metadata": {},
     "output_type": "execute_result"
    }
   ],
   "source": [
    "map_mask.getpixel((1005, 1005))[1:]"
   ]
  },
  {
   "cell_type": "code",
   "execution_count": 6,
   "id": "51407278",
   "metadata": {},
   "outputs": [
    {
     "name": "stdout",
     "output_type": "stream",
     "text": [
      "map width = 6854\n",
      "map height = 4708\n"
     ]
    }
   ],
   "source": [
    "print(f\"map width = {MAP_WIDTH}\")\n",
    "print(f\"map height = {MAP_HEIGHT}\")"
   ]
  },
  {
   "cell_type": "code",
   "execution_count": 7,
   "id": "3da9f88b",
   "metadata": {},
   "outputs": [],
   "source": [
    "mapheight_fit_factor = WINDOW_HEIGHT/MAP_HEIGHT*0.75"
   ]
  },
  {
   "cell_type": "code",
   "execution_count": 8,
   "id": "a5d34a98",
   "metadata": {},
   "outputs": [],
   "source": [
    "game_area = {\n",
    "    \"x0\" : 100, \"y0\" : 0,\n",
    "    \"width\" : mapheight_fit_factor*MAP_WIDTH, \"height\" : mapheight_fit_factor*MAP_HEIGHT \n",
    "}"
   ]
  },
  {
   "cell_type": "code",
   "execution_count": 9,
   "id": "ffea6e70",
   "metadata": {},
   "outputs": [],
   "source": [
    "class TextClass:\n",
    "    def __init__(self, text_content : str , font_loc : str,\n",
    "                 font_size : int, font_color : Tuple[int, int, int],\n",
    "                 rect_center : Tuple[int, int]):\n",
    "        self.text_content = text_content\n",
    "        self.font_loc = font_loc\n",
    "        self.font_size = font_size\n",
    "        self.font_color = font_color\n",
    "        self.font = pygame.font.Font(self.font_loc, self.font_size)\n",
    "        self.text = self.font.render(self.text_content, True, self.font_color)\n",
    "        self.text_rect = self.text.get_rect()\n",
    "        self.text_rect.center = rect_center\n",
    "\n",
    "    def draw_text(self, screen : pygame.Surface):\n",
    "        screen.blit(self.text, self.text_rect)\n",
    "\n",
    "class Quit_Box:\n",
    "    def __init__(self, text_values : dict, \n",
    "                 x : int = 0, y : int = 0,\n",
    "                 width : int = 100, height : int = 50,\n",
    "                 ):\n",
    "        # box\n",
    "        self.x = x\n",
    "        self.y = y\n",
    "        self.width = width\n",
    "        self.height = height\n",
    "        # text\n",
    "        text_values['rect_center'] = (self.x + self.width/2, self.y + self.height/2)\n",
    "        self.text = TextClass(**text_values)\n",
    "\n",
    "    def draw(self, screen : pygame.Surface) -> None:\n",
    "        # draw quit game box at top left\n",
    "        pygame.draw.rect(screen, (255, 255, 255), pygame.Rect(self.x, self.y, self.width, self.height))\n",
    "        self.text.draw_text(screen)\n",
    "\n",
    "    def is_inside(self, mouse_x : int, mouse_y : int) -> bool:\n",
    "        if mouse_x >= self.x and mouse_x <= self.x + self.width\\\n",
    "        and mouse_y >= self.y and mouse_y <= self.y + self.height:\n",
    "            return True\n",
    "        return False"
   ]
  },
  {
   "cell_type": "code",
   "execution_count": 10,
   "id": "c8319a10",
   "metadata": {},
   "outputs": [],
   "source": [
    "def get_map_coordinate(mouse_x : int, mouse_y : int, x_offset, y_offset, zoom) -> Tuple[int, int]:\n",
    "    map_x = (mouse_x + x_offset - game_area['x0']) // (mapheight_fit_factor * zoom) \n",
    "    map_y = (mouse_y + y_offset - game_area['y0']) // (mapheight_fit_factor * zoom)\n",
    "    return int(map_x), int(map_y)"
   ]
  },
  {
   "cell_type": "code",
   "execution_count": 11,
   "id": "87a1f07e",
   "metadata": {},
   "outputs": [],
   "source": [
    "def rgb2hex(r : int, g : int, b : int) -> str:\n",
    "    return \"{:02x}{:02x}{:02x}\".format(r, g, b)"
   ]
  },
  {
   "cell_type": "code",
   "execution_count": 12,
   "id": "963b5139",
   "metadata": {},
   "outputs": [],
   "source": [
    "def get_region_name(region_color : str, df : pd.DataFrame) -> str:\n",
    "    return df[df['Color-Hex'] == region_color]['Name'].iloc[0]"
   ]
  },
  {
   "cell_type": "code",
   "execution_count": 13,
   "id": "d59c5dac",
   "metadata": {},
   "outputs": [
    {
     "data": {
      "text/html": [
       "<div>\n",
       "<style scoped>\n",
       "    .dataframe tbody tr th:only-of-type {\n",
       "        vertical-align: middle;\n",
       "    }\n",
       "\n",
       "    .dataframe tbody tr th {\n",
       "        vertical-align: top;\n",
       "    }\n",
       "\n",
       "    .dataframe thead th {\n",
       "        text-align: right;\n",
       "    }\n",
       "</style>\n",
       "<table border=\"1\" class=\"dataframe\">\n",
       "  <thead>\n",
       "    <tr style=\"text-align: right;\">\n",
       "      <th></th>\n",
       "      <th>Name</th>\n",
       "      <th>Type</th>\n",
       "      <th>Color-Decimal</th>\n",
       "      <th>Color-Hex</th>\n",
       "    </tr>\n",
       "  </thead>\n",
       "  <tbody>\n",
       "    <tr>\n",
       "      <th>0</th>\n",
       "      <td>Anfalas</td>\n",
       "      <td>region</td>\n",
       "      <td>100</td>\n",
       "      <td>000064</td>\n",
       "    </tr>\n",
       "    <tr>\n",
       "      <th>1</th>\n",
       "      <td>Angmar</td>\n",
       "      <td>region</td>\n",
       "      <td>200</td>\n",
       "      <td>0000C8</td>\n",
       "    </tr>\n",
       "    <tr>\n",
       "      <th>2</th>\n",
       "      <td>Arnor</td>\n",
       "      <td>region</td>\n",
       "      <td>400</td>\n",
       "      <td>000190</td>\n",
       "    </tr>\n",
       "    <tr>\n",
       "      <th>3</th>\n",
       "      <td>Ash Mountains</td>\n",
       "      <td>region</td>\n",
       "      <td>500</td>\n",
       "      <td>0001F4</td>\n",
       "    </tr>\n",
       "    <tr>\n",
       "      <th>4</th>\n",
       "      <td>Barad Dur</td>\n",
       "      <td>region</td>\n",
       "      <td>600</td>\n",
       "      <td>000258</td>\n",
       "    </tr>\n",
       "  </tbody>\n",
       "</table>\n",
       "</div>"
      ],
      "text/plain": [
       "            Name    Type  Color-Decimal Color-Hex\n",
       "0        Anfalas  region            100    000064\n",
       "1         Angmar  region            200    0000C8\n",
       "2          Arnor  region            400    000190\n",
       "3  Ash Mountains  region            500    0001F4\n",
       "4      Barad Dur  region            600    000258"
      ]
     },
     "execution_count": 13,
     "metadata": {},
     "output_type": "execute_result"
    }
   ],
   "source": [
    "df = pd.read_csv(root + 'map_mask_data.csv')\n",
    "df.head()"
   ]
  },
  {
   "cell_type": "code",
   "execution_count": 14,
   "id": "39c788f6",
   "metadata": {},
   "outputs": [
    {
     "data": {
      "text/plain": [
       "0.8602378929481734"
      ]
     },
     "execution_count": 14,
     "metadata": {},
     "output_type": "execute_result"
    }
   ],
   "source": [
    "mapheight_fit_factor * 5"
   ]
  },
  {
   "cell_type": "code",
   "execution_count": 15,
   "id": "01f03fc7",
   "metadata": {},
   "outputs": [],
   "source": [
    "zoom = 1\n",
    "zoom_step = 0.3\n",
    "zoom_min = 1\n",
    "zoom_max = 5\n",
    "\n",
    "def get_scaled_map(map_image : pygame.Surface) -> pygame.Surface:\n",
    "    return pygame.transform.smoothscale_by(map_image, mapheight_fit_factor * zoom)"
   ]
  },
  {
   "cell_type": "code",
   "execution_count": 16,
   "id": "a1555d57",
   "metadata": {},
   "outputs": [],
   "source": [
    "def bound_game_area(x0, y0, map_width, map_height):\n",
    "    x0 = min(x0, map_width - game_area['width'])\n",
    "    x0 = max(x0, 0)\n",
    "    y0 = min(y0, map_height - game_area['height'])\n",
    "    y0 = max(y0, 0)\n",
    "    return x0, y0"
   ]
  },
  {
   "cell_type": "code",
   "execution_count": 17,
   "id": "d78e1fcf",
   "metadata": {},
   "outputs": [
    {
     "data": {
      "text/plain": [
       "(1, 2, 1, 2)"
      ]
     },
     "execution_count": 17,
     "metadata": {},
     "output_type": "execute_result"
    }
   ],
   "source": [
    "(1, 2) + (1, 2)"
   ]
  },
  {
   "cell_type": "code",
   "execution_count": 18,
   "id": "973f249e",
   "metadata": {},
   "outputs": [],
   "source": [
    "def get_view_rect(map_width : int, map_height : int, offset_x, offset_y, zoom_type) -> Tuple[int, int]:\n",
    "    mouse_x, mouse_y = pygame.mouse.get_pos()\n",
    "\n",
    "    camera_center = (offset_x + game_area['width']/2, offset_y + game_area['height']/2)\n",
    "    new_camera_center = (mouse_x + offset_x, mouse_y + offset_y)\n",
    "    camera_drift_direction =  (new_camera_center[0] - camera_center[0], new_camera_center[1] - camera_center[1])\n",
    "    \n",
    "    x0 = offset_x + camera_drift_direction[0]*0.5*zoom_type\n",
    "    y0 = offset_y + camera_drift_direction[1]*0.5*zoom_type\n",
    "    x0, y0 = bound_game_area(x0, y0, map_width, map_height)\n",
    "\n",
    "    return (x0, y0)"
   ]
  },
  {
   "cell_type": "code",
   "execution_count": 19,
   "id": "aad2f547",
   "metadata": {},
   "outputs": [],
   "source": [
    "def inside_game_area():\n",
    "    mouse_x, mouse_y = pygame.mouse.get_pos()\n",
    "    \n",
    "    return mouse_x >= game_area['x0'] and mouse_x <= game_area['x0'] + game_area['width']\\\n",
    "    and mouse_y >= game_area['y0'] and mouse_y <= game_area['y0'] + game_area['height']"
   ]
  },
  {
   "cell_type": "code",
   "execution_count": null,
   "id": "cc50540c",
   "metadata": {},
   "outputs": [
    {
     "name": "stdout",
     "output_type": "stream",
     "text": [
      "Inside game area\n",
      "Region Color : 002008\n",
      "Region name : South Downs\n",
      "Inside game area\n",
      "Region Color : 002454\n",
      "Region name : Trollshaws\n",
      "Inside game area\n",
      "Region Color : 000fa0\n",
      "Region name : Goblin’s Gate\n"
     ]
    }
   ],
   "source": [
    "zoom = 1\n",
    "zoom_type = 1\n",
    "\n",
    "# Initialize Pygame\n",
    "pygame.init()\n",
    "\n",
    "# ui elements\n",
    "text_values = {\n",
    "    \"text_content\" : \"Quit\",\n",
    "    \"font_loc\" : root + \"font.ttf\",\n",
    "    \"font_size\" : 30, \"font_color\" : (0, 0, 0),\n",
    "    \"rect_center\" : (0, 0)\n",
    "}\n",
    "quit_box = Quit_Box(text_values=text_values)\n",
    "\n",
    "screen = pygame.display.set_mode((WINDOW_WIDTH, WINDOW_HEIGHT), pygame.FULLSCREEN, 32)\n",
    "pygame.display.set_caption(\"War of the Ring\")\n",
    "original_map_image = pygame.image.load(root + \"map_cut.png\").convert()\n",
    "map_image = get_scaled_map(original_map_image)\n",
    "view_rect = pygame.Rect(0, 0, game_area['width'], game_area['height'])\n",
    "clock = pygame.time.Clock()\n",
    "running = True\n",
    "dragging = False\n",
    "offset_x = 0\n",
    "offset_y = 0\n",
    "image_start = (offset_x, offset_y)\n",
    "region_mask = []\n",
    "\n",
    "while running:\n",
    "    for event in pygame.event.get():\n",
    "        if event.type == pygame.QUIT:\n",
    "            running = False\n",
    "        \n",
    "        # mouse button down\n",
    "        elif event.type == pygame.MOUSEBUTTONDOWN:\n",
    "            # left click\n",
    "            if event.button == 1:\n",
    "                mouse_x, mouse_y = pygame.mouse.get_pos()\n",
    "                # quit button\n",
    "                if quit_box.is_inside(mouse_x, mouse_y):\n",
    "                    running = False\n",
    "                # button click on game area\n",
    "                elif inside_game_area():\n",
    "                    print(\"Inside game area\")\n",
    "                    map_x, map_y = get_map_coordinate(mouse_x, mouse_y, offset_x, offset_y, zoom)\n",
    "                    region_color = map_mask.getpixel((map_x, map_y))[:3]\n",
    "                    region_color_hex = rgb2hex(*region_color)\n",
    "                    print(f\"Region Color : {region_color_hex}\")\n",
    "                    region_name = get_region_name(region_color_hex.upper(), df)\n",
    "                    print(f\"Region name : {region_name}\")\n",
    "                # button click outside game area\n",
    "                else:\n",
    "                    print(\"Outside game area\")\n",
    "            \n",
    "            # right click to drag\n",
    "            elif event.button == 3:\n",
    "                dragging = True\n",
    "                drag_start = pygame.mouse.get_pos()\n",
    "                image_start = (offset_x, offset_y)\n",
    "            \n",
    "            # scroll up\n",
    "            elif (event.button == 4 or event.button == 5) and inside_game_area():\n",
    "                if event.button == 4:\n",
    "                    zoom = min(zoom_max, zoom + zoom_step)\n",
    "                    zoom_type = 1\n",
    "                else:\n",
    "                    zoom = max(zoom_min, zoom - zoom_step)\n",
    "                    zoom_type = -1\n",
    "                map_image = get_scaled_map(original_map_image)\n",
    "                offset_x, offset_y = get_view_rect(map_image.get_width(), map_image.get_height(), offset_x, offset_y, zoom_type)\n",
    "                view_rect = pygame.Rect(offset_x, offset_y, game_area['width'], game_area['height'])\n",
    "        \n",
    "        # end of dragging\n",
    "        elif event.type == pygame.MOUSEBUTTONUP:\n",
    "            if event.button == 3:  # Stop dragging\n",
    "                dragging = False\n",
    "\n",
    "        elif event.type == pygame.MOUSEMOTION and dragging:\n",
    "            mouse_x, mouse_y = pygame.mouse.get_pos()\n",
    "            dx = mouse_x - drag_start[0]\n",
    "            dy = mouse_y - drag_start[1]\n",
    "            offset_x = image_start[0] - dx\n",
    "            offset_y = image_start[1] - dy\n",
    "            offset_x, offset_y = bound_game_area(offset_x, offset_y, map_image.get_width(), map_image.get_height())\n",
    "            view_rect = pygame.Rect(offset_x, offset_y, game_area['width'], game_area['height'])\n",
    "\n",
    "    screen.fill((0, 0, 0))\n",
    "\n",
    "    # render the frame\n",
    "    # map\n",
    "    screen.blit(map_image, (100, 0), view_rect)\n",
    "    # ui\n",
    "    for pixel in selected_pixels:\n",
    "        screen.set_at(pixel, (255, 0, 0, 255))\n",
    "    quit_box.draw(screen)\n",
    "\n",
    "    pygame.display.flip()\n",
    "    clock.tick(60)\n",
    "\n",
    "pygame.quit()"
   ]
  },
  {
   "cell_type": "code",
   "execution_count": 38,
   "id": "28984acc",
   "metadata": {},
   "outputs": [],
   "source": [
    "arr = np.array(map_mask)\n",
    "indices = np.argwhere(np.all(arr == [0, 0, 0, 255], axis=-1))"
   ]
  },
  {
   "cell_type": "code",
   "execution_count": 41,
   "id": "bfb2efaf",
   "metadata": {},
   "outputs": [],
   "source": [
    "new_array = np.zeros_like(arr)"
   ]
  },
  {
   "cell_type": "code",
   "execution_count": 43,
   "id": "41c6033c",
   "metadata": {},
   "outputs": [],
   "source": [
    "new_array[indices[:, 0], indices[:, 1]] = [255, 0, 0, 100]"
   ]
  },
  {
   "cell_type": "code",
   "execution_count": 44,
   "id": "5ef63fd0",
   "metadata": {},
   "outputs": [
    {
     "data": {
      "text/plain": [
       "array([[[  0,   0,   0,   0],\n",
       "        [  0,   0,   0,   0],\n",
       "        [255,   0,   0, 100],\n",
       "        ...,\n",
       "        [255,   0,   0, 100],\n",
       "        [  0,   0,   0,   0],\n",
       "        [  0,   0,   0,   0]],\n",
       "\n",
       "       [[  0,   0,   0,   0],\n",
       "        [  0,   0,   0,   0],\n",
       "        [255,   0,   0, 100],\n",
       "        ...,\n",
       "        [255,   0,   0, 100],\n",
       "        [  0,   0,   0,   0],\n",
       "        [  0,   0,   0,   0]],\n",
       "\n",
       "       [[255,   0,   0, 100],\n",
       "        [255,   0,   0, 100],\n",
       "        [255,   0,   0, 100],\n",
       "        ...,\n",
       "        [255,   0,   0, 100],\n",
       "        [255,   0,   0, 100],\n",
       "        [255,   0,   0, 100]],\n",
       "\n",
       "       ...,\n",
       "\n",
       "       [[255,   0,   0, 100],\n",
       "        [255,   0,   0, 100],\n",
       "        [255,   0,   0, 100],\n",
       "        ...,\n",
       "        [255,   0,   0, 100],\n",
       "        [255,   0,   0, 100],\n",
       "        [255,   0,   0, 100]],\n",
       "\n",
       "       [[  0,   0,   0,   0],\n",
       "        [  0,   0,   0,   0],\n",
       "        [255,   0,   0, 100],\n",
       "        ...,\n",
       "        [255,   0,   0, 100],\n",
       "        [  0,   0,   0,   0],\n",
       "        [  0,   0,   0,   0]],\n",
       "\n",
       "       [[  0,   0,   0,   0],\n",
       "        [  0,   0,   0,   0],\n",
       "        [255,   0,   0, 100],\n",
       "        ...,\n",
       "        [255,   0,   0, 100],\n",
       "        [  0,   0,   0,   0],\n",
       "        [  0,   0,   0,   0]]], shape=(4708, 6854, 4), dtype=uint8)"
      ]
     },
     "execution_count": 44,
     "metadata": {},
     "output_type": "execute_result"
    }
   ],
   "source": [
    "new_array"
   ]
  },
  {
   "cell_type": "code",
   "execution_count": null,
   "id": "84d66d53",
   "metadata": {},
   "outputs": [],
   "source": []
  }
 ],
 "metadata": {
  "kernelspec": {
   "display_name": "env",
   "language": "python",
   "name": "python3"
  },
  "language_info": {
   "codemirror_mode": {
    "name": "ipython",
    "version": 3
   },
   "file_extension": ".py",
   "mimetype": "text/x-python",
   "name": "python",
   "nbconvert_exporter": "python",
   "pygments_lexer": "ipython3",
   "version": "3.10.0"
  }
 },
 "nbformat": 4,
 "nbformat_minor": 5
}
