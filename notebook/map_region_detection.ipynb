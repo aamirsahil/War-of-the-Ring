{
 "cells": [
  {
   "cell_type": "code",
   "execution_count": 2,
   "id": "654c006f",
   "metadata": {},
   "outputs": [
    {
     "data": {
      "text/plain": [
       "'d:\\\\Coding\\\\War of the ring\\\\War-of-the-Ring\\\\notebook'"
      ]
     },
     "execution_count": 2,
     "metadata": {},
     "output_type": "execute_result"
    }
   ],
   "source": [
    "import os\n",
    "os.getcwd()"
   ]
  },
  {
   "cell_type": "code",
   "execution_count": 1,
   "id": "58190fd5",
   "metadata": {},
   "outputs": [],
   "source": [
    "root = \"../src/assets/map/\""
   ]
  },
  {
   "cell_type": "code",
   "execution_count": 20,
   "id": "02c5d863",
   "metadata": {},
   "outputs": [],
   "source": [
    "import pygame\n",
    "from PIL import Image\n",
    "from dataclasses import dataclass"
   ]
  },
  {
   "cell_type": "code",
   "execution_count": 11,
   "id": "4d2f1811",
   "metadata": {},
   "outputs": [],
   "source": [
    "# pygame window dimensions\n",
    "WINDOW_WIDTH = 1280\n",
    "WINDOW_HEIGHT = 720\n",
    "\n",
    "# map dimension\n",
    "map_image = Image.open(root + \"map_cut.png\")\n",
    "map_mask = Image.open(root + \"map_mask.png\")\n",
    "MAP_WIDTH = map_image.width\n",
    "MAP_HEIGHT = map_image.height"
   ]
  },
  {
   "cell_type": "code",
   "execution_count": 12,
   "id": "51407278",
   "metadata": {},
   "outputs": [
    {
     "name": "stdout",
     "output_type": "stream",
     "text": [
      "map width = 6854\n",
      "map height = 4708\n"
     ]
    }
   ],
   "source": [
    "print(f\"map width = {MAP_WIDTH}\")\n",
    "print(f\"map height = {MAP_HEIGHT}\")"
   ]
  },
  {
   "cell_type": "code",
   "execution_count": 13,
   "id": "3da9f88b",
   "metadata": {},
   "outputs": [],
   "source": [
    "mapheight_fit_factor = WINDOW_HEIGHT/MAP_HEIGHT"
   ]
  },
  {
   "cell_type": "code",
   "execution_count": 31,
   "id": "ffea6e70",
   "metadata": {},
   "outputs": [],
   "source": [
    "class TextClass:\n",
    "    def __init__(self, text_content : str , font_loc : str,\n",
    "                 font_size : int, font_color : tuple[int, int, int],\n",
    "                 rect_center : tuple[int, int]):\n",
    "        self.text_content = text_content\n",
    "        self.font_loc = font_loc\n",
    "        self.font_size = font_size\n",
    "        self.font_color = font_color\n",
    "        self.font = pygame.font.SysFont(self.font_loc, self.font_size)\n",
    "        self.text = self.font.render(self.text_content, True, self.font_color)\n",
    "        self.text_rect = self.text.get_rect()\n",
    "        self.text_rect.center = rect_center\n",
    "\n",
    "    def draw_text(self, screen : pygame.Surface):\n",
    "        screen.blit(self.text, self.text_rect)\n",
    "\n",
    "class Quit_Box:\n",
    "    def __init__(self, text_values : dict, \n",
    "                 x : int = 0, y : int = 0,\n",
    "                 width : int = 100, height : int = 50,\n",
    "                 ):\n",
    "        # box\n",
    "        self.x = x\n",
    "        self.y = y\n",
    "        self.width = width\n",
    "        self.height = height\n",
    "        # text\n",
    "        text_values['rect_center'] = (self.x + self.width/2, self.y + self.height/2)\n",
    "        self.text = TextClass(**text_values)\n",
    "\n",
    "    def draw(self, screen : pygame.Surface) -> None:\n",
    "        # draw quit game box at top left\n",
    "        pygame.draw.rect(screen, (255, 255, 255), pygame.Rect(self.x, self.y, self.width, self.height))\n",
    "        self.text.draw_text(screen)\n",
    "\n",
    "    def is_inside(self, mouse_x : int, mouse_y : int) -> bool:\n",
    "        if mouse_x >= self.x and mouse_x <= self.x + self.width\\\n",
    "        and mouse_y >= self.y and mouse_y <= self.y + self.height:\n",
    "            return True\n",
    "        return False"
   ]
  },
  {
   "cell_type": "code",
   "execution_count": 38,
   "id": "cc50540c",
   "metadata": {},
   "outputs": [],
   "source": [
    "# Initialize Pygame\n",
    "pygame.init()\n",
    "\n",
    "# ui elements\n",
    "text_values = {\n",
    "    \"text_content\" : \"Quit\",\n",
    "    \"font_loc\" : root + \"font.ttf\",\n",
    "    \"font_size\" : 40, \"font_color\" : (0, 0, 0),\n",
    "    \"rect_center\" : (0, 0)\n",
    "}\n",
    "quit_box = Quit_Box(text_values=text_values)\n",
    "\n",
    "screen = pygame.display.set_mode((WINDOW_WIDTH, WINDOW_HEIGHT))\n",
    "pygame.display.set_caption(\"War of the Ring\")\n",
    "clock = pygame.time.Clock()\n",
    "running = True\n",
    "\n",
    "while running:\n",
    "    for event in pygame.event.get():\n",
    "        if event.type == pygame.QUIT:\n",
    "            running = False\n",
    "        elif event.type == pygame.MOUSEBUTTONDOWN and event.button == 1:\n",
    "            mouse_x, mouse_y = pygame.mouse.get_pos()\n",
    "            if quit_box.is_inside(mouse_x, mouse_y):\n",
    "                running = False\n",
    "\n",
    "    screen.fill((0, 0, 0))\n",
    "\n",
    "    # render the frame\n",
    "    # map\n",
    "\n",
    "    # ui\n",
    "    quit_box.draw(screen)\n",
    "\n",
    "    pygame.display.flip()\n",
    "    clock.tick(60)\n",
    "\n",
    "pygame.quit()"
   ]
  },
  {
   "cell_type": "code",
   "execution_count": null,
   "id": "e08f55d8",
   "metadata": {},
   "outputs": [],
   "source": []
  }
 ],
 "metadata": {
  "kernelspec": {
   "display_name": "env",
   "language": "python",
   "name": "python3"
  },
  "language_info": {
   "codemirror_mode": {
    "name": "ipython",
    "version": 3
   },
   "file_extension": ".py",
   "mimetype": "text/x-python",
   "name": "python",
   "nbconvert_exporter": "python",
   "pygments_lexer": "ipython3",
   "version": "3.10.0"
  }
 },
 "nbformat": 4,
 "nbformat_minor": 5
}
